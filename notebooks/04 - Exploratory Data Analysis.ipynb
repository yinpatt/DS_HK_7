{
 "cells": [
  {
   "cell_type": "markdown",
   "metadata": {},
   "source": [
    "![](https://www.cranfield.ac.uk/~/media/Images/mastheads/masthead-bix-mh344x810.ashx?h=344&la=en&mw=810&w=810&hash=4AD63583A5EA5BF7E5E561A1C62A8F7879F36571)"
   ]
  },
  {
   "cell_type": "markdown",
   "metadata": {},
   "source": [
    "# Exploratory Data Analysis"
   ]
  },
  {
   "cell_type": "markdown",
   "metadata": {},
   "source": [
    "> Doing statistics is like doing crosswords except that one cannot know for sure whether one has found the solution.\n",
    "\n",
    "<footer>~  John W. Tukey</footer>"
   ]
  },
  {
   "cell_type": "markdown",
   "metadata": {},
   "source": [
    "![break](assets/agenda.png)"
   ]
  },
  {
   "cell_type": "markdown",
   "metadata": {},
   "source": [
    "### Agenda\n",
    "\n",
    "* Deal with Missing Data\n",
    "* Explore Data by Visualisations"
   ]
  },
  {
   "cell_type": "markdown",
   "metadata": {},
   "source": [
    "![break](assets/theory.png)"
   ]
  },
  {
   "cell_type": "markdown",
   "metadata": {},
   "source": [
    "### Motivating Example... Catching Cheaters"
   ]
  },
  {
   "cell_type": "markdown",
   "metadata": {},
   "source": [
    "![](assets/cplot.Rout-0.png)"
   ]
  },
  {
   "cell_type": "markdown",
   "metadata": {},
   "source": [
    "[Source](http://jd-mathbio.blogspot.ca/2015/02/finding-cheaters-using-multiple-choice.html?utm_source=marketo&utm_medium=email&utm_campaign=DA-NL-202&mkt_tok=3RkMMJWWfF9wsRokvq3MZKXonjHpfsX%2B7%2BooW6Gg38431UFwdcjKPmjr1YEETcB0aPyQAgobGp5I5FEOS7PYS6V6t6EOUg%3D%3D)"
   ]
  },
  {
   "cell_type": "markdown",
   "metadata": {},
   "source": [
    "## The Goals of Exploratory Data Analysis"
   ]
  },
  {
   "cell_type": "markdown",
   "metadata": {},
   "source": [
    "1. Summarize the main characteristics of datasets with Summary Statistics (Initial Data Analysis)\n",
    "1. Visually inspect the structure and nature of the data\n",
    "1. Find what the data can tell us beyond the formal modeling or hypothesis testing task."
   ]
  },
  {
   "cell_type": "markdown",
   "metadata": {},
   "source": [
    "#### Example : Measurement Precision"
   ]
  },
  {
   "cell_type": "markdown",
   "metadata": {},
   "source": [
    "![](assets/rounding1.png)"
   ]
  },
  {
   "cell_type": "markdown",
   "metadata": {},
   "source": [
    "![](assets/rounding2.png)"
   ]
  },
  {
   "cell_type": "markdown",
   "metadata": {},
   "source": [
    "![](assets/rounding3.png)"
   ]
  },
  {
   "cell_type": "markdown",
   "metadata": {},
   "source": [
    "### Let the visuals speak to you"
   ]
  },
  {
   "cell_type": "markdown",
   "metadata": {},
   "source": [
    "Always explore your data visually. Whatever specific hypothesis you have when you go out to collect data is likely to be worse than any of the hypotheses you’ll form after looking at just a few simple visualizations of that data."
   ]
  },
  {
   "cell_type": "markdown",
   "metadata": {},
   "source": [
    "#### Load `ggplot` and plot graphs inline"
   ]
  },
  {
   "cell_type": "code",
   "execution_count": null,
   "metadata": {
    "collapsed": false
   },
   "outputs": [],
   "source": [
    "%%sh\n",
    "pip install ggplot"
   ]
  },
  {
   "cell_type": "code",
   "execution_count": 5,
   "metadata": {
    "collapsed": false
   },
   "outputs": [],
   "source": [
    "from ggplot import *\n",
    "import pandas as pd\n",
    "import warnings\n",
    "\n",
    "warnings.filterwarnings(\"ignore\", category=DeprecationWarning)\n",
    "\n",
    "%matplotlib inline"
   ]
  },
  {
   "cell_type": "markdown",
   "metadata": {},
   "source": [
    "### How are zipcodes distributed in the US?"
   ]
  },
  {
   "cell_type": "code",
   "execution_count": 2,
   "metadata": {
    "collapsed": false,
    "scrolled": true
   },
   "outputs": [
    {
     "data": {
      "text/html": [
       "<div>\n",
       "<table border=\"1\" class=\"dataframe\">\n",
       "  <thead>\n",
       "    <tr style=\"text-align: right;\">\n",
       "      <th></th>\n",
       "      <th>zip</th>\n",
       "      <th>type</th>\n",
       "      <th>primary_city</th>\n",
       "      <th>acceptable_cities</th>\n",
       "      <th>unacceptable_cities</th>\n",
       "      <th>state</th>\n",
       "      <th>county</th>\n",
       "      <th>timezone</th>\n",
       "      <th>area_codes</th>\n",
       "      <th>latitude</th>\n",
       "      <th>longitude</th>\n",
       "      <th>world_region</th>\n",
       "      <th>country</th>\n",
       "      <th>decommissioned</th>\n",
       "      <th>estimated_population</th>\n",
       "      <th>notes</th>\n",
       "    </tr>\n",
       "  </thead>\n",
       "  <tbody>\n",
       "    <tr>\n",
       "      <th>0</th>\n",
       "      <td>544</td>\n",
       "      <td>UNIQUE</td>\n",
       "      <td>Holtsville</td>\n",
       "      <td>NaN</td>\n",
       "      <td>Irs Service Center</td>\n",
       "      <td>NY</td>\n",
       "      <td>Suffolk County</td>\n",
       "      <td>America/New_York</td>\n",
       "      <td>631</td>\n",
       "      <td>40.81</td>\n",
       "      <td>-73.04</td>\n",
       "      <td>NaN</td>\n",
       "      <td>US</td>\n",
       "      <td>0</td>\n",
       "      <td>0</td>\n",
       "      <td>NaN</td>\n",
       "    </tr>\n",
       "    <tr>\n",
       "      <th>1</th>\n",
       "      <td>601</td>\n",
       "      <td>STANDARD</td>\n",
       "      <td>Adjuntas</td>\n",
       "      <td>NaN</td>\n",
       "      <td>Colinas Del Gigante, Jard De Adjuntas, Urb San...</td>\n",
       "      <td>PR</td>\n",
       "      <td>Adjuntas</td>\n",
       "      <td>America/Puerto_Rico</td>\n",
       "      <td>787939</td>\n",
       "      <td>18.16</td>\n",
       "      <td>-66.72</td>\n",
       "      <td>NaN</td>\n",
       "      <td>US</td>\n",
       "      <td>0</td>\n",
       "      <td>0</td>\n",
       "      <td>NaN</td>\n",
       "    </tr>\n",
       "    <tr>\n",
       "      <th>2</th>\n",
       "      <td>602</td>\n",
       "      <td>STANDARD</td>\n",
       "      <td>Aguada</td>\n",
       "      <td>NaN</td>\n",
       "      <td>Alts De Aguada, Bo Guaniquilla, Comunidad Las ...</td>\n",
       "      <td>PR</td>\n",
       "      <td>NaN</td>\n",
       "      <td>NaN</td>\n",
       "      <td>787</td>\n",
       "      <td>18.38</td>\n",
       "      <td>-67.18</td>\n",
       "      <td>NaN</td>\n",
       "      <td>US</td>\n",
       "      <td>0</td>\n",
       "      <td>0</td>\n",
       "      <td>NaN</td>\n",
       "    </tr>\n",
       "    <tr>\n",
       "      <th>3</th>\n",
       "      <td>603</td>\n",
       "      <td>STANDARD</td>\n",
       "      <td>Aguadilla</td>\n",
       "      <td>Ramey</td>\n",
       "      <td>Bda Caban, Bda Esteves, Bo Borinquen, Bo Ceiba...</td>\n",
       "      <td>PR</td>\n",
       "      <td>Aguadilla</td>\n",
       "      <td>America/Puerto_Rico</td>\n",
       "      <td>787</td>\n",
       "      <td>18.43</td>\n",
       "      <td>-67.15</td>\n",
       "      <td>NaN</td>\n",
       "      <td>US</td>\n",
       "      <td>0</td>\n",
       "      <td>0</td>\n",
       "      <td>NaN</td>\n",
       "    </tr>\n",
       "    <tr>\n",
       "      <th>4</th>\n",
       "      <td>604</td>\n",
       "      <td>PO BOX</td>\n",
       "      <td>Aguadilla</td>\n",
       "      <td>Ramey</td>\n",
       "      <td>NaN</td>\n",
       "      <td>PR</td>\n",
       "      <td>NaN</td>\n",
       "      <td>NaN</td>\n",
       "      <td>NaN</td>\n",
       "      <td>18.43</td>\n",
       "      <td>-67.15</td>\n",
       "      <td>NaN</td>\n",
       "      <td>US</td>\n",
       "      <td>0</td>\n",
       "      <td>0</td>\n",
       "      <td>NaN</td>\n",
       "    </tr>\n",
       "    <tr>\n",
       "      <th>5</th>\n",
       "      <td>605</td>\n",
       "      <td>PO BOX</td>\n",
       "      <td>Aguadilla</td>\n",
       "      <td>NaN</td>\n",
       "      <td>NaN</td>\n",
       "      <td>PR</td>\n",
       "      <td>NaN</td>\n",
       "      <td>NaN</td>\n",
       "      <td>NaN</td>\n",
       "      <td>18.43</td>\n",
       "      <td>-67.15</td>\n",
       "      <td>NaN</td>\n",
       "      <td>US</td>\n",
       "      <td>0</td>\n",
       "      <td>0</td>\n",
       "      <td>NaN</td>\n",
       "    </tr>\n",
       "    <tr>\n",
       "      <th>6</th>\n",
       "      <td>606</td>\n",
       "      <td>STANDARD</td>\n",
       "      <td>Maricao</td>\n",
       "      <td>NaN</td>\n",
       "      <td>Urb San Juan Bautista</td>\n",
       "      <td>PR</td>\n",
       "      <td>Maricao</td>\n",
       "      <td>America/Puerto_Rico</td>\n",
       "      <td>787939</td>\n",
       "      <td>18.18</td>\n",
       "      <td>-66.98</td>\n",
       "      <td>NaN</td>\n",
       "      <td>US</td>\n",
       "      <td>0</td>\n",
       "      <td>0</td>\n",
       "      <td>NaN</td>\n",
       "    </tr>\n",
       "    <tr>\n",
       "      <th>7</th>\n",
       "      <td>610</td>\n",
       "      <td>STANDARD</td>\n",
       "      <td>Anasco</td>\n",
       "      <td>NaN</td>\n",
       "      <td>Brisas De Anasco, Est De Valle Verde, Jard De ...</td>\n",
       "      <td>PR</td>\n",
       "      <td>NaN</td>\n",
       "      <td>NaN</td>\n",
       "      <td>787</td>\n",
       "      <td>18.28</td>\n",
       "      <td>-67.14</td>\n",
       "      <td>NaN</td>\n",
       "      <td>US</td>\n",
       "      <td>0</td>\n",
       "      <td>0</td>\n",
       "      <td>NaN</td>\n",
       "    </tr>\n",
       "    <tr>\n",
       "      <th>8</th>\n",
       "      <td>611</td>\n",
       "      <td>PO BOX</td>\n",
       "      <td>Angeles</td>\n",
       "      <td>NaN</td>\n",
       "      <td>NaN</td>\n",
       "      <td>PR</td>\n",
       "      <td>NaN</td>\n",
       "      <td>NaN</td>\n",
       "      <td>NaN</td>\n",
       "      <td>18.28</td>\n",
       "      <td>-66.79</td>\n",
       "      <td>NaN</td>\n",
       "      <td>US</td>\n",
       "      <td>0</td>\n",
       "      <td>0</td>\n",
       "      <td>no NWS data,</td>\n",
       "    </tr>\n",
       "    <tr>\n",
       "      <th>9</th>\n",
       "      <td>612</td>\n",
       "      <td>STANDARD</td>\n",
       "      <td>Arecibo</td>\n",
       "      <td>NaN</td>\n",
       "      <td>Alt De Juncos, Alt De San Felipe, Bda Duhamel,...</td>\n",
       "      <td>PR</td>\n",
       "      <td>Arecibo</td>\n",
       "      <td>America/Puerto_Rico</td>\n",
       "      <td>787</td>\n",
       "      <td>18.45</td>\n",
       "      <td>-66.73</td>\n",
       "      <td>NaN</td>\n",
       "      <td>US</td>\n",
       "      <td>0</td>\n",
       "      <td>0</td>\n",
       "      <td>NaN</td>\n",
       "    </tr>\n",
       "    <tr>\n",
       "      <th>10</th>\n",
       "      <td>613</td>\n",
       "      <td>PO BOX</td>\n",
       "      <td>Arecibo</td>\n",
       "      <td>NaN</td>\n",
       "      <td>NaN</td>\n",
       "      <td>PR</td>\n",
       "      <td>NaN</td>\n",
       "      <td>NaN</td>\n",
       "      <td>NaN</td>\n",
       "      <td>18.45</td>\n",
       "      <td>-66.73</td>\n",
       "      <td>NaN</td>\n",
       "      <td>US</td>\n",
       "      <td>0</td>\n",
       "      <td>0</td>\n",
       "      <td>NaN</td>\n",
       "    </tr>\n",
       "    <tr>\n",
       "      <th>11</th>\n",
       "      <td>614</td>\n",
       "      <td>PO BOX</td>\n",
       "      <td>Arecibo</td>\n",
       "      <td>NaN</td>\n",
       "      <td>NaN</td>\n",
       "      <td>PR</td>\n",
       "      <td>NaN</td>\n",
       "      <td>NaN</td>\n",
       "      <td>NaN</td>\n",
       "      <td>18.45</td>\n",
       "      <td>-66.73</td>\n",
       "      <td>NaN</td>\n",
       "      <td>US</td>\n",
       "      <td>0</td>\n",
       "      <td>0</td>\n",
       "      <td>NaN</td>\n",
       "    </tr>\n",
       "    <tr>\n",
       "      <th>12</th>\n",
       "      <td>616</td>\n",
       "      <td>STANDARD</td>\n",
       "      <td>Bajadero</td>\n",
       "      <td>NaN</td>\n",
       "      <td>Brisas Del Valle</td>\n",
       "      <td>PR</td>\n",
       "      <td>Arecibo</td>\n",
       "      <td>America/Puerto_Rico</td>\n",
       "      <td>NaN</td>\n",
       "      <td>18.40</td>\n",
       "      <td>-66.66</td>\n",
       "      <td>NaN</td>\n",
       "      <td>US</td>\n",
       "      <td>0</td>\n",
       "      <td>0</td>\n",
       "      <td>NaN</td>\n",
       "    </tr>\n",
       "    <tr>\n",
       "      <th>13</th>\n",
       "      <td>617</td>\n",
       "      <td>STANDARD</td>\n",
       "      <td>Barceloneta</td>\n",
       "      <td>NaN</td>\n",
       "      <td>Bda Catalana, Brisas De Llanadas, Brisas Del M...</td>\n",
       "      <td>PR</td>\n",
       "      <td>Barceloneta</td>\n",
       "      <td>America/Puerto_Rico</td>\n",
       "      <td>787</td>\n",
       "      <td>18.45</td>\n",
       "      <td>-66.53</td>\n",
       "      <td>NaN</td>\n",
       "      <td>US</td>\n",
       "      <td>0</td>\n",
       "      <td>0</td>\n",
       "      <td>NaN</td>\n",
       "    </tr>\n",
       "    <tr>\n",
       "      <th>14</th>\n",
       "      <td>622</td>\n",
       "      <td>STANDARD</td>\n",
       "      <td>Boqueron</td>\n",
       "      <td>NaN</td>\n",
       "      <td>Villa Taina</td>\n",
       "      <td>PR</td>\n",
       "      <td>NaN</td>\n",
       "      <td>NaN</td>\n",
       "      <td>787</td>\n",
       "      <td>17.99</td>\n",
       "      <td>-67.15</td>\n",
       "      <td>NaN</td>\n",
       "      <td>US</td>\n",
       "      <td>0</td>\n",
       "      <td>0</td>\n",
       "      <td>NaN</td>\n",
       "    </tr>\n",
       "    <tr>\n",
       "      <th>15</th>\n",
       "      <td>623</td>\n",
       "      <td>STANDARD</td>\n",
       "      <td>Cabo Rojo</td>\n",
       "      <td>NaN</td>\n",
       "      <td>Alts De Joyuda, Alts Del Mar, Bo Ballaja, Bo M...</td>\n",
       "      <td>PR</td>\n",
       "      <td>NaN</td>\n",
       "      <td>NaN</td>\n",
       "      <td>787</td>\n",
       "      <td>18.08</td>\n",
       "      <td>-67.14</td>\n",
       "      <td>NaN</td>\n",
       "      <td>US</td>\n",
       "      <td>0</td>\n",
       "      <td>0</td>\n",
       "      <td>NaN</td>\n",
       "    </tr>\n",
       "    <tr>\n",
       "      <th>16</th>\n",
       "      <td>624</td>\n",
       "      <td>STANDARD</td>\n",
       "      <td>Penuelas</td>\n",
       "      <td>NaN</td>\n",
       "      <td>Alt De Penuelas Ii, Alts De Penuelas, Brisas D...</td>\n",
       "      <td>PR</td>\n",
       "      <td>NaN</td>\n",
       "      <td>NaN</td>\n",
       "      <td>787</td>\n",
       "      <td>18.06</td>\n",
       "      <td>-66.72</td>\n",
       "      <td>NaN</td>\n",
       "      <td>US</td>\n",
       "      <td>0</td>\n",
       "      <td>0</td>\n",
       "      <td>NaN</td>\n",
       "    </tr>\n",
       "    <tr>\n",
       "      <th>17</th>\n",
       "      <td>627</td>\n",
       "      <td>STANDARD</td>\n",
       "      <td>Camuy</td>\n",
       "      <td>NaN</td>\n",
       "      <td>Alts El Maestro, Sect Pena, Urb Del Carmen, Ur...</td>\n",
       "      <td>PR</td>\n",
       "      <td>NaN</td>\n",
       "      <td>NaN</td>\n",
       "      <td>787</td>\n",
       "      <td>18.48</td>\n",
       "      <td>-66.84</td>\n",
       "      <td>NaN</td>\n",
       "      <td>US</td>\n",
       "      <td>0</td>\n",
       "      <td>0</td>\n",
       "      <td>NaN</td>\n",
       "    </tr>\n",
       "    <tr>\n",
       "      <th>18</th>\n",
       "      <td>631</td>\n",
       "      <td>PO BOX</td>\n",
       "      <td>Castaner</td>\n",
       "      <td>Adjuntas</td>\n",
       "      <td>NaN</td>\n",
       "      <td>PR</td>\n",
       "      <td>NaN</td>\n",
       "      <td>NaN</td>\n",
       "      <td>NaN</td>\n",
       "      <td>18.19</td>\n",
       "      <td>-66.82</td>\n",
       "      <td>NaN</td>\n",
       "      <td>US</td>\n",
       "      <td>0</td>\n",
       "      <td>0</td>\n",
       "      <td>NaN</td>\n",
       "    </tr>\n",
       "    <tr>\n",
       "      <th>19</th>\n",
       "      <td>636</td>\n",
       "      <td>PO BOX</td>\n",
       "      <td>Rosario</td>\n",
       "      <td>NaN</td>\n",
       "      <td>NaN</td>\n",
       "      <td>PR</td>\n",
       "      <td>NaN</td>\n",
       "      <td>NaN</td>\n",
       "      <td>NaN</td>\n",
       "      <td>18.15</td>\n",
       "      <td>-67.06</td>\n",
       "      <td>NaN</td>\n",
       "      <td>US</td>\n",
       "      <td>0</td>\n",
       "      <td>0</td>\n",
       "      <td>NaN</td>\n",
       "    </tr>\n",
       "    <tr>\n",
       "      <th>20</th>\n",
       "      <td>637</td>\n",
       "      <td>STANDARD</td>\n",
       "      <td>Sabana Grande</td>\n",
       "      <td>NaN</td>\n",
       "      <td>Alts De San Jose, Bda San Isidro, Est Del Rio,...</td>\n",
       "      <td>PR</td>\n",
       "      <td>NaN</td>\n",
       "      <td>NaN</td>\n",
       "      <td>787</td>\n",
       "      <td>18.08</td>\n",
       "      <td>-66.96</td>\n",
       "      <td>NaN</td>\n",
       "      <td>US</td>\n",
       "      <td>0</td>\n",
       "      <td>0</td>\n",
       "      <td>NaN</td>\n",
       "    </tr>\n",
       "    <tr>\n",
       "      <th>21</th>\n",
       "      <td>638</td>\n",
       "      <td>STANDARD</td>\n",
       "      <td>Ciales</td>\n",
       "      <td>NaN</td>\n",
       "      <td>Qtas De Ciales, Urb Dos Rios, Urb Los Llanos, ...</td>\n",
       "      <td>PR</td>\n",
       "      <td>NaN</td>\n",
       "      <td>NaN</td>\n",
       "      <td>787</td>\n",
       "      <td>18.33</td>\n",
       "      <td>-66.47</td>\n",
       "      <td>NaN</td>\n",
       "      <td>US</td>\n",
       "      <td>0</td>\n",
       "      <td>0</td>\n",
       "      <td>NaN</td>\n",
       "    </tr>\n",
       "    <tr>\n",
       "      <th>22</th>\n",
       "      <td>641</td>\n",
       "      <td>STANDARD</td>\n",
       "      <td>Utuado</td>\n",
       "      <td>NaN</td>\n",
       "      <td>Alts De Utuado, Bda Nueva, Ext San Martin, Jar...</td>\n",
       "      <td>PR</td>\n",
       "      <td>NaN</td>\n",
       "      <td>NaN</td>\n",
       "      <td>787</td>\n",
       "      <td>18.27</td>\n",
       "      <td>-66.70</td>\n",
       "      <td>NaN</td>\n",
       "      <td>US</td>\n",
       "      <td>0</td>\n",
       "      <td>0</td>\n",
       "      <td>NaN</td>\n",
       "    </tr>\n",
       "    <tr>\n",
       "      <th>23</th>\n",
       "      <td>646</td>\n",
       "      <td>STANDARD</td>\n",
       "      <td>Dorado</td>\n",
       "      <td>NaN</td>\n",
       "      <td>Bo Arenal, Bo Saldinera, Bosque Dorado, Chalet...</td>\n",
       "      <td>PR</td>\n",
       "      <td>NaN</td>\n",
       "      <td>NaN</td>\n",
       "      <td>787</td>\n",
       "      <td>18.47</td>\n",
       "      <td>-66.27</td>\n",
       "      <td>NaN</td>\n",
       "      <td>US</td>\n",
       "      <td>0</td>\n",
       "      <td>0</td>\n",
       "      <td>NaN</td>\n",
       "    </tr>\n",
       "    <tr>\n",
       "      <th>24</th>\n",
       "      <td>647</td>\n",
       "      <td>STANDARD</td>\n",
       "      <td>Ensenada</td>\n",
       "      <td>NaN</td>\n",
       "      <td>Urb Baco</td>\n",
       "      <td>PR</td>\n",
       "      <td>NaN</td>\n",
       "      <td>NaN</td>\n",
       "      <td>NaN</td>\n",
       "      <td>17.96</td>\n",
       "      <td>-66.94</td>\n",
       "      <td>NaN</td>\n",
       "      <td>US</td>\n",
       "      <td>0</td>\n",
       "      <td>0</td>\n",
       "      <td>NaN</td>\n",
       "    </tr>\n",
       "    <tr>\n",
       "      <th>25</th>\n",
       "      <td>650</td>\n",
       "      <td>STANDARD</td>\n",
       "      <td>Florida</td>\n",
       "      <td>NaN</td>\n",
       "      <td>Alt De Florida, Est De Arroyo, Repto Seoane, U...</td>\n",
       "      <td>PR</td>\n",
       "      <td>NaN</td>\n",
       "      <td>NaN</td>\n",
       "      <td>787939</td>\n",
       "      <td>18.36</td>\n",
       "      <td>-66.56</td>\n",
       "      <td>NaN</td>\n",
       "      <td>US</td>\n",
       "      <td>0</td>\n",
       "      <td>0</td>\n",
       "      <td>NaN</td>\n",
       "    </tr>\n",
       "    <tr>\n",
       "      <th>26</th>\n",
       "      <td>652</td>\n",
       "      <td>STANDARD</td>\n",
       "      <td>Garrochales</td>\n",
       "      <td>NaN</td>\n",
       "      <td>Hacienda De Garrochales, Urb Los Jardines</td>\n",
       "      <td>PR</td>\n",
       "      <td>Arecibo</td>\n",
       "      <td>America/Puerto_Rico</td>\n",
       "      <td>787</td>\n",
       "      <td>18.45</td>\n",
       "      <td>-66.60</td>\n",
       "      <td>NaN</td>\n",
       "      <td>US</td>\n",
       "      <td>0</td>\n",
       "      <td>0</td>\n",
       "      <td>NaN</td>\n",
       "    </tr>\n",
       "    <tr>\n",
       "      <th>27</th>\n",
       "      <td>653</td>\n",
       "      <td>STANDARD</td>\n",
       "      <td>Guanica</td>\n",
       "      <td>NaN</td>\n",
       "      <td>Bda Esperanza, Bo La Luna, Urb Bahia, Urb Sagr...</td>\n",
       "      <td>PR</td>\n",
       "      <td>NaN</td>\n",
       "      <td>NaN</td>\n",
       "      <td>787</td>\n",
       "      <td>17.97</td>\n",
       "      <td>-66.93</td>\n",
       "      <td>NaN</td>\n",
       "      <td>US</td>\n",
       "      <td>0</td>\n",
       "      <td>0</td>\n",
       "      <td>NaN</td>\n",
       "    </tr>\n",
       "    <tr>\n",
       "      <th>28</th>\n",
       "      <td>656</td>\n",
       "      <td>STANDARD</td>\n",
       "      <td>Guayanilla</td>\n",
       "      <td>NaN</td>\n",
       "      <td>Bda Guaydia, Bo Los Sitios, Ext Santa Elena 2,...</td>\n",
       "      <td>PR</td>\n",
       "      <td>NaN</td>\n",
       "      <td>NaN</td>\n",
       "      <td>787</td>\n",
       "      <td>18.02</td>\n",
       "      <td>-66.79</td>\n",
       "      <td>NaN</td>\n",
       "      <td>US</td>\n",
       "      <td>0</td>\n",
       "      <td>0</td>\n",
       "      <td>NaN</td>\n",
       "    </tr>\n",
       "    <tr>\n",
       "      <th>29</th>\n",
       "      <td>659</td>\n",
       "      <td>STANDARD</td>\n",
       "      <td>Hatillo</td>\n",
       "      <td>NaN</td>\n",
       "      <td>Alt De Hatillo, Bda Clan, Brisas De Hatillo, C...</td>\n",
       "      <td>PR</td>\n",
       "      <td>NaN</td>\n",
       "      <td>NaN</td>\n",
       "      <td>NaN</td>\n",
       "      <td>18.48</td>\n",
       "      <td>-66.82</td>\n",
       "      <td>NaN</td>\n",
       "      <td>US</td>\n",
       "      <td>0</td>\n",
       "      <td>0</td>\n",
       "      <td>NaN</td>\n",
       "    </tr>\n",
       "    <tr>\n",
       "      <th>...</th>\n",
       "      <td>...</td>\n",
       "      <td>...</td>\n",
       "      <td>...</td>\n",
       "      <td>...</td>\n",
       "      <td>...</td>\n",
       "      <td>...</td>\n",
       "      <td>...</td>\n",
       "      <td>...</td>\n",
       "      <td>...</td>\n",
       "      <td>...</td>\n",
       "      <td>...</td>\n",
       "      <td>...</td>\n",
       "      <td>...</td>\n",
       "      <td>...</td>\n",
       "      <td>...</td>\n",
       "      <td>...</td>\n",
       "    </tr>\n",
       "    <tr>\n",
       "      <th>42492</th>\n",
       "      <td>99812</td>\n",
       "      <td>UNIQUE</td>\n",
       "      <td>Juneau</td>\n",
       "      <td>NaN</td>\n",
       "      <td>State Of Alaska</td>\n",
       "      <td>AK</td>\n",
       "      <td>City and Borough of Juneau</td>\n",
       "      <td>America/Juneau</td>\n",
       "      <td>907</td>\n",
       "      <td>58.28</td>\n",
       "      <td>-134.40</td>\n",
       "      <td>NaN</td>\n",
       "      <td>US</td>\n",
       "      <td>0</td>\n",
       "      <td>0</td>\n",
       "      <td>no NWS data,</td>\n",
       "    </tr>\n",
       "    <tr>\n",
       "      <th>42493</th>\n",
       "      <td>99820</td>\n",
       "      <td>PO BOX</td>\n",
       "      <td>Angoon</td>\n",
       "      <td>NaN</td>\n",
       "      <td>NaN</td>\n",
       "      <td>AK</td>\n",
       "      <td>Hoonah-Angoon Borough</td>\n",
       "      <td>NaN</td>\n",
       "      <td>907</td>\n",
       "      <td>57.44</td>\n",
       "      <td>-134.48</td>\n",
       "      <td>NaN</td>\n",
       "      <td>US</td>\n",
       "      <td>0</td>\n",
       "      <td>0</td>\n",
       "      <td>NaN</td>\n",
       "    </tr>\n",
       "    <tr>\n",
       "      <th>42494</th>\n",
       "      <td>99821</td>\n",
       "      <td>PO BOX</td>\n",
       "      <td>Auke Bay</td>\n",
       "      <td>Juneau</td>\n",
       "      <td>NaN</td>\n",
       "      <td>AK</td>\n",
       "      <td>City and Borough of Juneau</td>\n",
       "      <td>America/Juneau</td>\n",
       "      <td>907</td>\n",
       "      <td>58.30</td>\n",
       "      <td>-134.42</td>\n",
       "      <td>NaN</td>\n",
       "      <td>US</td>\n",
       "      <td>0</td>\n",
       "      <td>1307</td>\n",
       "      <td>NaN</td>\n",
       "    </tr>\n",
       "    <tr>\n",
       "      <th>42495</th>\n",
       "      <td>99824</td>\n",
       "      <td>STANDARD</td>\n",
       "      <td>Douglas</td>\n",
       "      <td>Juneau</td>\n",
       "      <td>NaN</td>\n",
       "      <td>AK</td>\n",
       "      <td>Juneau Borough</td>\n",
       "      <td>America/Juneau</td>\n",
       "      <td>907</td>\n",
       "      <td>58.23</td>\n",
       "      <td>-134.38</td>\n",
       "      <td>NaN</td>\n",
       "      <td>US</td>\n",
       "      <td>0</td>\n",
       "      <td>1782</td>\n",
       "      <td>NaN</td>\n",
       "    </tr>\n",
       "    <tr>\n",
       "      <th>42496</th>\n",
       "      <td>99825</td>\n",
       "      <td>PO BOX</td>\n",
       "      <td>Elfin Cove</td>\n",
       "      <td>NaN</td>\n",
       "      <td>NaN</td>\n",
       "      <td>AK</td>\n",
       "      <td>Hoonah-Angoon Borough</td>\n",
       "      <td>America/Juneau</td>\n",
       "      <td>907</td>\n",
       "      <td>58.10</td>\n",
       "      <td>-136.29</td>\n",
       "      <td>NaN</td>\n",
       "      <td>US</td>\n",
       "      <td>0</td>\n",
       "      <td>0</td>\n",
       "      <td>NaN</td>\n",
       "    </tr>\n",
       "    <tr>\n",
       "      <th>42497</th>\n",
       "      <td>99826</td>\n",
       "      <td>PO BOX</td>\n",
       "      <td>Gustavus</td>\n",
       "      <td>NaN</td>\n",
       "      <td>NaN</td>\n",
       "      <td>AK</td>\n",
       "      <td>Hoonah-Angoon Borough</td>\n",
       "      <td>America/Juneau</td>\n",
       "      <td>907</td>\n",
       "      <td>58.42</td>\n",
       "      <td>-135.78</td>\n",
       "      <td>NaN</td>\n",
       "      <td>US</td>\n",
       "      <td>0</td>\n",
       "      <td>424</td>\n",
       "      <td>NaN</td>\n",
       "    </tr>\n",
       "    <tr>\n",
       "      <th>42498</th>\n",
       "      <td>99827</td>\n",
       "      <td>STANDARD</td>\n",
       "      <td>Haines</td>\n",
       "      <td>NaN</td>\n",
       "      <td>NaN</td>\n",
       "      <td>AK</td>\n",
       "      <td>Haines Borough</td>\n",
       "      <td>America/Juneau</td>\n",
       "      <td>907</td>\n",
       "      <td>59.16</td>\n",
       "      <td>-135.86</td>\n",
       "      <td>NaN</td>\n",
       "      <td>US</td>\n",
       "      <td>0</td>\n",
       "      <td>2152</td>\n",
       "      <td>NaN</td>\n",
       "    </tr>\n",
       "    <tr>\n",
       "      <th>42499</th>\n",
       "      <td>99829</td>\n",
       "      <td>PO BOX</td>\n",
       "      <td>Hoonah</td>\n",
       "      <td>NaN</td>\n",
       "      <td>NaN</td>\n",
       "      <td>AK</td>\n",
       "      <td>Hoonah-Angoon Borough</td>\n",
       "      <td>America/Juneau</td>\n",
       "      <td>907</td>\n",
       "      <td>58.08</td>\n",
       "      <td>-135.43</td>\n",
       "      <td>NaN</td>\n",
       "      <td>US</td>\n",
       "      <td>0</td>\n",
       "      <td>660</td>\n",
       "      <td>NaN</td>\n",
       "    </tr>\n",
       "    <tr>\n",
       "      <th>42500</th>\n",
       "      <td>99830</td>\n",
       "      <td>PO BOX</td>\n",
       "      <td>Kake</td>\n",
       "      <td>NaN</td>\n",
       "      <td>NaN</td>\n",
       "      <td>AK</td>\n",
       "      <td>Petersburg Borough</td>\n",
       "      <td>America/Juneau</td>\n",
       "      <td>907</td>\n",
       "      <td>56.79</td>\n",
       "      <td>-134.19</td>\n",
       "      <td>NaN</td>\n",
       "      <td>US</td>\n",
       "      <td>0</td>\n",
       "      <td>0</td>\n",
       "      <td>NaN</td>\n",
       "    </tr>\n",
       "    <tr>\n",
       "      <th>42501</th>\n",
       "      <td>99832</td>\n",
       "      <td>PO BOX</td>\n",
       "      <td>Pelican</td>\n",
       "      <td>NaN</td>\n",
       "      <td>NaN</td>\n",
       "      <td>AK</td>\n",
       "      <td>Hoonah-Angoon Borough</td>\n",
       "      <td>America/Juneau</td>\n",
       "      <td>907</td>\n",
       "      <td>57.95</td>\n",
       "      <td>-136.11</td>\n",
       "      <td>NaN</td>\n",
       "      <td>US</td>\n",
       "      <td>0</td>\n",
       "      <td>0</td>\n",
       "      <td>NaN</td>\n",
       "    </tr>\n",
       "    <tr>\n",
       "      <th>42502</th>\n",
       "      <td>99833</td>\n",
       "      <td>PO BOX</td>\n",
       "      <td>Petersburg</td>\n",
       "      <td>Kupreanof</td>\n",
       "      <td>NaN</td>\n",
       "      <td>AK</td>\n",
       "      <td>Petersburg Borough</td>\n",
       "      <td>America/Juneau</td>\n",
       "      <td>907</td>\n",
       "      <td>57.05</td>\n",
       "      <td>-132.62</td>\n",
       "      <td>NaN</td>\n",
       "      <td>US</td>\n",
       "      <td>0</td>\n",
       "      <td>2950</td>\n",
       "      <td>NaN</td>\n",
       "    </tr>\n",
       "    <tr>\n",
       "      <th>42503</th>\n",
       "      <td>99835</td>\n",
       "      <td>STANDARD</td>\n",
       "      <td>Sitka</td>\n",
       "      <td>NaN</td>\n",
       "      <td>NaN</td>\n",
       "      <td>AK</td>\n",
       "      <td>Sitka Borough</td>\n",
       "      <td>America/Juneau</td>\n",
       "      <td>907</td>\n",
       "      <td>56.73</td>\n",
       "      <td>-135.00</td>\n",
       "      <td>NaN</td>\n",
       "      <td>US</td>\n",
       "      <td>0</td>\n",
       "      <td>7498</td>\n",
       "      <td>NaN</td>\n",
       "    </tr>\n",
       "    <tr>\n",
       "      <th>42504</th>\n",
       "      <td>99836</td>\n",
       "      <td>PO BOX</td>\n",
       "      <td>Port Alexander</td>\n",
       "      <td>Prt Alexander, Sitka</td>\n",
       "      <td>NaN</td>\n",
       "      <td>AK</td>\n",
       "      <td>Petersburg Borough</td>\n",
       "      <td>America/Juneau</td>\n",
       "      <td>907</td>\n",
       "      <td>56.21</td>\n",
       "      <td>-134.66</td>\n",
       "      <td>NaN</td>\n",
       "      <td>US</td>\n",
       "      <td>0</td>\n",
       "      <td>0</td>\n",
       "      <td>NaN</td>\n",
       "    </tr>\n",
       "    <tr>\n",
       "      <th>42505</th>\n",
       "      <td>99840</td>\n",
       "      <td>PO BOX</td>\n",
       "      <td>Skagway</td>\n",
       "      <td>NaN</td>\n",
       "      <td>NaN</td>\n",
       "      <td>AK</td>\n",
       "      <td>Skagway Borough</td>\n",
       "      <td>America/Juneau</td>\n",
       "      <td>907</td>\n",
       "      <td>59.57</td>\n",
       "      <td>-135.35</td>\n",
       "      <td>NaN</td>\n",
       "      <td>US</td>\n",
       "      <td>0</td>\n",
       "      <td>971</td>\n",
       "      <td>NaN</td>\n",
       "    </tr>\n",
       "    <tr>\n",
       "      <th>42506</th>\n",
       "      <td>99841</td>\n",
       "      <td>PO BOX</td>\n",
       "      <td>Tenakee Springs</td>\n",
       "      <td>Tenakee Spgs</td>\n",
       "      <td>NaN</td>\n",
       "      <td>AK</td>\n",
       "      <td>Hoonah-Angoon Borough</td>\n",
       "      <td>America/Juneau</td>\n",
       "      <td>907</td>\n",
       "      <td>57.83</td>\n",
       "      <td>-135.13</td>\n",
       "      <td>NaN</td>\n",
       "      <td>US</td>\n",
       "      <td>0</td>\n",
       "      <td>0</td>\n",
       "      <td>NaN</td>\n",
       "    </tr>\n",
       "    <tr>\n",
       "      <th>42507</th>\n",
       "      <td>99850</td>\n",
       "      <td>PO BOX</td>\n",
       "      <td>Juneau</td>\n",
       "      <td>NaN</td>\n",
       "      <td>NaN</td>\n",
       "      <td>AK</td>\n",
       "      <td>City and Borough of Juneau</td>\n",
       "      <td>America/Juneau</td>\n",
       "      <td>907</td>\n",
       "      <td>58.43</td>\n",
       "      <td>-135.38</td>\n",
       "      <td>NaN</td>\n",
       "      <td>US</td>\n",
       "      <td>0</td>\n",
       "      <td>0</td>\n",
       "      <td>NaN</td>\n",
       "    </tr>\n",
       "    <tr>\n",
       "      <th>42508</th>\n",
       "      <td>99901</td>\n",
       "      <td>STANDARD</td>\n",
       "      <td>Ketchikan</td>\n",
       "      <td>Edna Bay, Kasaan, Naukati Bay, Saxman</td>\n",
       "      <td>NaN</td>\n",
       "      <td>AK</td>\n",
       "      <td>Ketchikan Gateway Borough</td>\n",
       "      <td>America/Juneau</td>\n",
       "      <td>907</td>\n",
       "      <td>55.61</td>\n",
       "      <td>-131.58</td>\n",
       "      <td>NaN</td>\n",
       "      <td>US</td>\n",
       "      <td>0</td>\n",
       "      <td>10392</td>\n",
       "      <td>NaN</td>\n",
       "    </tr>\n",
       "    <tr>\n",
       "      <th>42509</th>\n",
       "      <td>99903</td>\n",
       "      <td>PO BOX</td>\n",
       "      <td>Meyers Chuck</td>\n",
       "      <td>Ketchikan</td>\n",
       "      <td>NaN</td>\n",
       "      <td>AK</td>\n",
       "      <td>Prince of Wales-Outer Ketchikan Borough</td>\n",
       "      <td>America/Juneau</td>\n",
       "      <td>907</td>\n",
       "      <td>55.68</td>\n",
       "      <td>-132.19</td>\n",
       "      <td>NaN</td>\n",
       "      <td>US</td>\n",
       "      <td>0</td>\n",
       "      <td>0</td>\n",
       "      <td>NaN</td>\n",
       "    </tr>\n",
       "    <tr>\n",
       "      <th>42510</th>\n",
       "      <td>99918</td>\n",
       "      <td>PO BOX</td>\n",
       "      <td>Coffman Cove</td>\n",
       "      <td>Ketchikan</td>\n",
       "      <td>NaN</td>\n",
       "      <td>AK</td>\n",
       "      <td>Prince of Wales-Outer Ketchikan Borough</td>\n",
       "      <td>America/Juneau</td>\n",
       "      <td>907</td>\n",
       "      <td>55.97</td>\n",
       "      <td>-132.74</td>\n",
       "      <td>NaN</td>\n",
       "      <td>US</td>\n",
       "      <td>0</td>\n",
       "      <td>0</td>\n",
       "      <td>NaN</td>\n",
       "    </tr>\n",
       "    <tr>\n",
       "      <th>42511</th>\n",
       "      <td>99919</td>\n",
       "      <td>PO BOX</td>\n",
       "      <td>Thorne Bay</td>\n",
       "      <td>Ketchikan</td>\n",
       "      <td>NaN</td>\n",
       "      <td>AK</td>\n",
       "      <td>Prince of Wales-Outer Ketchikan Borough</td>\n",
       "      <td>America/Juneau</td>\n",
       "      <td>907</td>\n",
       "      <td>55.57</td>\n",
       "      <td>-132.39</td>\n",
       "      <td>NaN</td>\n",
       "      <td>US</td>\n",
       "      <td>0</td>\n",
       "      <td>0</td>\n",
       "      <td>NaN</td>\n",
       "    </tr>\n",
       "    <tr>\n",
       "      <th>42512</th>\n",
       "      <td>99921</td>\n",
       "      <td>PO BOX</td>\n",
       "      <td>Craig</td>\n",
       "      <td>NaN</td>\n",
       "      <td>NaN</td>\n",
       "      <td>AK</td>\n",
       "      <td>Prince of Wales-Outer Ketchikan Borough</td>\n",
       "      <td>America/Juneau</td>\n",
       "      <td>907</td>\n",
       "      <td>55.46</td>\n",
       "      <td>-132.83</td>\n",
       "      <td>NaN</td>\n",
       "      <td>US</td>\n",
       "      <td>0</td>\n",
       "      <td>1367</td>\n",
       "      <td>NaN</td>\n",
       "    </tr>\n",
       "    <tr>\n",
       "      <th>42513</th>\n",
       "      <td>99922</td>\n",
       "      <td>PO BOX</td>\n",
       "      <td>Hydaburg</td>\n",
       "      <td>NaN</td>\n",
       "      <td>NaN</td>\n",
       "      <td>AK</td>\n",
       "      <td>Prince of Wales-Outer Ketchikan Borough</td>\n",
       "      <td>America/Juneau</td>\n",
       "      <td>907</td>\n",
       "      <td>55.20</td>\n",
       "      <td>-132.81</td>\n",
       "      <td>NaN</td>\n",
       "      <td>US</td>\n",
       "      <td>0</td>\n",
       "      <td>0</td>\n",
       "      <td>NaN</td>\n",
       "    </tr>\n",
       "    <tr>\n",
       "      <th>42514</th>\n",
       "      <td>99923</td>\n",
       "      <td>PO BOX</td>\n",
       "      <td>Hyder</td>\n",
       "      <td>NaN</td>\n",
       "      <td>NaN</td>\n",
       "      <td>AK</td>\n",
       "      <td>Prince of Wales-Outer Ketchikan Borough</td>\n",
       "      <td>America/Juneau</td>\n",
       "      <td>907</td>\n",
       "      <td>55.97</td>\n",
       "      <td>-130.04</td>\n",
       "      <td>NaN</td>\n",
       "      <td>US</td>\n",
       "      <td>0</td>\n",
       "      <td>0</td>\n",
       "      <td>NaN</td>\n",
       "    </tr>\n",
       "    <tr>\n",
       "      <th>42515</th>\n",
       "      <td>99925</td>\n",
       "      <td>PO BOX</td>\n",
       "      <td>Klawock</td>\n",
       "      <td>NaN</td>\n",
       "      <td>NaN</td>\n",
       "      <td>AK</td>\n",
       "      <td>Prince of Wales-Outer Ketchikan Borough</td>\n",
       "      <td>America/Juneau</td>\n",
       "      <td>907</td>\n",
       "      <td>55.54</td>\n",
       "      <td>-132.96</td>\n",
       "      <td>NaN</td>\n",
       "      <td>US</td>\n",
       "      <td>0</td>\n",
       "      <td>682</td>\n",
       "      <td>NaN</td>\n",
       "    </tr>\n",
       "    <tr>\n",
       "      <th>42516</th>\n",
       "      <td>99926</td>\n",
       "      <td>PO BOX</td>\n",
       "      <td>Metlakatla</td>\n",
       "      <td>NaN</td>\n",
       "      <td>NaN</td>\n",
       "      <td>AK</td>\n",
       "      <td>Prince of Wales-Outer Ketchikan Borough</td>\n",
       "      <td>America/Juneau</td>\n",
       "      <td>907</td>\n",
       "      <td>55.14</td>\n",
       "      <td>-131.49</td>\n",
       "      <td>NaN</td>\n",
       "      <td>US</td>\n",
       "      <td>0</td>\n",
       "      <td>1018</td>\n",
       "      <td>NaN</td>\n",
       "    </tr>\n",
       "    <tr>\n",
       "      <th>42517</th>\n",
       "      <td>99927</td>\n",
       "      <td>PO BOX</td>\n",
       "      <td>Point Baker</td>\n",
       "      <td>NaN</td>\n",
       "      <td>NaN</td>\n",
       "      <td>AK</td>\n",
       "      <td>Prince of Wales-Outer Ketchikan Borough</td>\n",
       "      <td>America/Juneau</td>\n",
       "      <td>907</td>\n",
       "      <td>56.30</td>\n",
       "      <td>-133.57</td>\n",
       "      <td>NaN</td>\n",
       "      <td>US</td>\n",
       "      <td>0</td>\n",
       "      <td>0</td>\n",
       "      <td>NaN</td>\n",
       "    </tr>\n",
       "    <tr>\n",
       "      <th>42518</th>\n",
       "      <td>99928</td>\n",
       "      <td>PO BOX</td>\n",
       "      <td>Ward Cove</td>\n",
       "      <td>NaN</td>\n",
       "      <td>NaN</td>\n",
       "      <td>AK</td>\n",
       "      <td>Ketchikan Gateway Borough</td>\n",
       "      <td>America/Juneau</td>\n",
       "      <td>907</td>\n",
       "      <td>55.45</td>\n",
       "      <td>-131.79</td>\n",
       "      <td>NaN</td>\n",
       "      <td>US</td>\n",
       "      <td>0</td>\n",
       "      <td>1281</td>\n",
       "      <td>NaN</td>\n",
       "    </tr>\n",
       "    <tr>\n",
       "      <th>42519</th>\n",
       "      <td>99929</td>\n",
       "      <td>PO BOX</td>\n",
       "      <td>Wrangell</td>\n",
       "      <td>NaN</td>\n",
       "      <td>NaN</td>\n",
       "      <td>AK</td>\n",
       "      <td>Wrangell Borough</td>\n",
       "      <td>NaN</td>\n",
       "      <td>907</td>\n",
       "      <td>55.95</td>\n",
       "      <td>-131.96</td>\n",
       "      <td>NaN</td>\n",
       "      <td>US</td>\n",
       "      <td>0</td>\n",
       "      <td>1956</td>\n",
       "      <td>NaN</td>\n",
       "    </tr>\n",
       "    <tr>\n",
       "      <th>42520</th>\n",
       "      <td>99950</td>\n",
       "      <td>PO BOX</td>\n",
       "      <td>Ketchikan</td>\n",
       "      <td>Edna Bay, Kasaan</td>\n",
       "      <td>NaN</td>\n",
       "      <td>AK</td>\n",
       "      <td>Prince of Wales-Outer Ketchikan Borough</td>\n",
       "      <td>America/Juneau</td>\n",
       "      <td>907</td>\n",
       "      <td>55.34</td>\n",
       "      <td>-131.64</td>\n",
       "      <td>NaN</td>\n",
       "      <td>US</td>\n",
       "      <td>0</td>\n",
       "      <td>0</td>\n",
       "      <td>no NWS data,</td>\n",
       "    </tr>\n",
       "    <tr>\n",
       "      <th>42521</th>\n",
       "      <td>99950</td>\n",
       "      <td>PO BOX</td>\n",
       "      <td>Ketchikan</td>\n",
       "      <td>Edna Bay, Kasaan</td>\n",
       "      <td>NaN</td>\n",
       "      <td>AK</td>\n",
       "      <td>Prince of Wales-Outer Ketchikan Borough</td>\n",
       "      <td>America/Juneau</td>\n",
       "      <td>907</td>\n",
       "      <td>55.34</td>\n",
       "      <td>-131.64</td>\n",
       "      <td>NaN</td>\n",
       "      <td>US</td>\n",
       "      <td>0</td>\n",
       "      <td>0</td>\n",
       "      <td>no NWS data,</td>\n",
       "    </tr>\n",
       "  </tbody>\n",
       "</table>\n",
       "<p>42522 rows × 16 columns</p>\n",
       "</div>"
      ],
      "text/plain": [
       "         zip      type     primary_city  \\\n",
       "0        544    UNIQUE       Holtsville   \n",
       "1        601  STANDARD         Adjuntas   \n",
       "2        602  STANDARD           Aguada   \n",
       "3        603  STANDARD        Aguadilla   \n",
       "4        604    PO BOX        Aguadilla   \n",
       "5        605    PO BOX        Aguadilla   \n",
       "6        606  STANDARD          Maricao   \n",
       "7        610  STANDARD           Anasco   \n",
       "8        611    PO BOX          Angeles   \n",
       "9        612  STANDARD          Arecibo   \n",
       "10       613    PO BOX          Arecibo   \n",
       "11       614    PO BOX          Arecibo   \n",
       "12       616  STANDARD         Bajadero   \n",
       "13       617  STANDARD      Barceloneta   \n",
       "14       622  STANDARD         Boqueron   \n",
       "15       623  STANDARD        Cabo Rojo   \n",
       "16       624  STANDARD         Penuelas   \n",
       "17       627  STANDARD            Camuy   \n",
       "18       631    PO BOX         Castaner   \n",
       "19       636    PO BOX          Rosario   \n",
       "20       637  STANDARD    Sabana Grande   \n",
       "21       638  STANDARD           Ciales   \n",
       "22       641  STANDARD           Utuado   \n",
       "23       646  STANDARD           Dorado   \n",
       "24       647  STANDARD         Ensenada   \n",
       "25       650  STANDARD          Florida   \n",
       "26       652  STANDARD      Garrochales   \n",
       "27       653  STANDARD          Guanica   \n",
       "28       656  STANDARD       Guayanilla   \n",
       "29       659  STANDARD          Hatillo   \n",
       "...      ...       ...              ...   \n",
       "42492  99812    UNIQUE           Juneau   \n",
       "42493  99820    PO BOX           Angoon   \n",
       "42494  99821    PO BOX         Auke Bay   \n",
       "42495  99824  STANDARD          Douglas   \n",
       "42496  99825    PO BOX       Elfin Cove   \n",
       "42497  99826    PO BOX         Gustavus   \n",
       "42498  99827  STANDARD           Haines   \n",
       "42499  99829    PO BOX           Hoonah   \n",
       "42500  99830    PO BOX             Kake   \n",
       "42501  99832    PO BOX          Pelican   \n",
       "42502  99833    PO BOX       Petersburg   \n",
       "42503  99835  STANDARD            Sitka   \n",
       "42504  99836    PO BOX   Port Alexander   \n",
       "42505  99840    PO BOX          Skagway   \n",
       "42506  99841    PO BOX  Tenakee Springs   \n",
       "42507  99850    PO BOX           Juneau   \n",
       "42508  99901  STANDARD        Ketchikan   \n",
       "42509  99903    PO BOX     Meyers Chuck   \n",
       "42510  99918    PO BOX     Coffman Cove   \n",
       "42511  99919    PO BOX       Thorne Bay   \n",
       "42512  99921    PO BOX            Craig   \n",
       "42513  99922    PO BOX         Hydaburg   \n",
       "42514  99923    PO BOX            Hyder   \n",
       "42515  99925    PO BOX          Klawock   \n",
       "42516  99926    PO BOX       Metlakatla   \n",
       "42517  99927    PO BOX      Point Baker   \n",
       "42518  99928    PO BOX        Ward Cove   \n",
       "42519  99929    PO BOX         Wrangell   \n",
       "42520  99950    PO BOX        Ketchikan   \n",
       "42521  99950    PO BOX        Ketchikan   \n",
       "\n",
       "                           acceptable_cities  \\\n",
       "0                                        NaN   \n",
       "1                                        NaN   \n",
       "2                                        NaN   \n",
       "3                                      Ramey   \n",
       "4                                      Ramey   \n",
       "5                                        NaN   \n",
       "6                                        NaN   \n",
       "7                                        NaN   \n",
       "8                                        NaN   \n",
       "9                                        NaN   \n",
       "10                                       NaN   \n",
       "11                                       NaN   \n",
       "12                                       NaN   \n",
       "13                                       NaN   \n",
       "14                                       NaN   \n",
       "15                                       NaN   \n",
       "16                                       NaN   \n",
       "17                                       NaN   \n",
       "18                                  Adjuntas   \n",
       "19                                       NaN   \n",
       "20                                       NaN   \n",
       "21                                       NaN   \n",
       "22                                       NaN   \n",
       "23                                       NaN   \n",
       "24                                       NaN   \n",
       "25                                       NaN   \n",
       "26                                       NaN   \n",
       "27                                       NaN   \n",
       "28                                       NaN   \n",
       "29                                       NaN   \n",
       "...                                      ...   \n",
       "42492                                    NaN   \n",
       "42493                                    NaN   \n",
       "42494                                 Juneau   \n",
       "42495                                 Juneau   \n",
       "42496                                    NaN   \n",
       "42497                                    NaN   \n",
       "42498                                    NaN   \n",
       "42499                                    NaN   \n",
       "42500                                    NaN   \n",
       "42501                                    NaN   \n",
       "42502                              Kupreanof   \n",
       "42503                                    NaN   \n",
       "42504                   Prt Alexander, Sitka   \n",
       "42505                                    NaN   \n",
       "42506                           Tenakee Spgs   \n",
       "42507                                    NaN   \n",
       "42508  Edna Bay, Kasaan, Naukati Bay, Saxman   \n",
       "42509                              Ketchikan   \n",
       "42510                              Ketchikan   \n",
       "42511                              Ketchikan   \n",
       "42512                                    NaN   \n",
       "42513                                    NaN   \n",
       "42514                                    NaN   \n",
       "42515                                    NaN   \n",
       "42516                                    NaN   \n",
       "42517                                    NaN   \n",
       "42518                                    NaN   \n",
       "42519                                    NaN   \n",
       "42520                       Edna Bay, Kasaan   \n",
       "42521                       Edna Bay, Kasaan   \n",
       "\n",
       "                                     unacceptable_cities state  \\\n",
       "0                                     Irs Service Center    NY   \n",
       "1      Colinas Del Gigante, Jard De Adjuntas, Urb San...    PR   \n",
       "2      Alts De Aguada, Bo Guaniquilla, Comunidad Las ...    PR   \n",
       "3      Bda Caban, Bda Esteves, Bo Borinquen, Bo Ceiba...    PR   \n",
       "4                                                    NaN    PR   \n",
       "5                                                    NaN    PR   \n",
       "6                                  Urb San Juan Bautista    PR   \n",
       "7      Brisas De Anasco, Est De Valle Verde, Jard De ...    PR   \n",
       "8                                                    NaN    PR   \n",
       "9      Alt De Juncos, Alt De San Felipe, Bda Duhamel,...    PR   \n",
       "10                                                   NaN    PR   \n",
       "11                                                   NaN    PR   \n",
       "12                                      Brisas Del Valle    PR   \n",
       "13     Bda Catalana, Brisas De Llanadas, Brisas Del M...    PR   \n",
       "14                                           Villa Taina    PR   \n",
       "15     Alts De Joyuda, Alts Del Mar, Bo Ballaja, Bo M...    PR   \n",
       "16     Alt De Penuelas Ii, Alts De Penuelas, Brisas D...    PR   \n",
       "17     Alts El Maestro, Sect Pena, Urb Del Carmen, Ur...    PR   \n",
       "18                                                   NaN    PR   \n",
       "19                                                   NaN    PR   \n",
       "20     Alts De San Jose, Bda San Isidro, Est Del Rio,...    PR   \n",
       "21     Qtas De Ciales, Urb Dos Rios, Urb Los Llanos, ...    PR   \n",
       "22     Alts De Utuado, Bda Nueva, Ext San Martin, Jar...    PR   \n",
       "23     Bo Arenal, Bo Saldinera, Bosque Dorado, Chalet...    PR   \n",
       "24                                              Urb Baco    PR   \n",
       "25     Alt De Florida, Est De Arroyo, Repto Seoane, U...    PR   \n",
       "26             Hacienda De Garrochales, Urb Los Jardines    PR   \n",
       "27     Bda Esperanza, Bo La Luna, Urb Bahia, Urb Sagr...    PR   \n",
       "28     Bda Guaydia, Bo Los Sitios, Ext Santa Elena 2,...    PR   \n",
       "29     Alt De Hatillo, Bda Clan, Brisas De Hatillo, C...    PR   \n",
       "...                                                  ...   ...   \n",
       "42492                                    State Of Alaska    AK   \n",
       "42493                                                NaN    AK   \n",
       "42494                                                NaN    AK   \n",
       "42495                                                NaN    AK   \n",
       "42496                                                NaN    AK   \n",
       "42497                                                NaN    AK   \n",
       "42498                                                NaN    AK   \n",
       "42499                                                NaN    AK   \n",
       "42500                                                NaN    AK   \n",
       "42501                                                NaN    AK   \n",
       "42502                                                NaN    AK   \n",
       "42503                                                NaN    AK   \n",
       "42504                                                NaN    AK   \n",
       "42505                                                NaN    AK   \n",
       "42506                                                NaN    AK   \n",
       "42507                                                NaN    AK   \n",
       "42508                                                NaN    AK   \n",
       "42509                                                NaN    AK   \n",
       "42510                                                NaN    AK   \n",
       "42511                                                NaN    AK   \n",
       "42512                                                NaN    AK   \n",
       "42513                                                NaN    AK   \n",
       "42514                                                NaN    AK   \n",
       "42515                                                NaN    AK   \n",
       "42516                                                NaN    AK   \n",
       "42517                                                NaN    AK   \n",
       "42518                                                NaN    AK   \n",
       "42519                                                NaN    AK   \n",
       "42520                                                NaN    AK   \n",
       "42521                                                NaN    AK   \n",
       "\n",
       "                                        county             timezone  \\\n",
       "0                               Suffolk County     America/New_York   \n",
       "1                                     Adjuntas  America/Puerto_Rico   \n",
       "2                                          NaN                  NaN   \n",
       "3                                    Aguadilla  America/Puerto_Rico   \n",
       "4                                          NaN                  NaN   \n",
       "5                                          NaN                  NaN   \n",
       "6                                      Maricao  America/Puerto_Rico   \n",
       "7                                          NaN                  NaN   \n",
       "8                                          NaN                  NaN   \n",
       "9                                      Arecibo  America/Puerto_Rico   \n",
       "10                                         NaN                  NaN   \n",
       "11                                         NaN                  NaN   \n",
       "12                                     Arecibo  America/Puerto_Rico   \n",
       "13                                 Barceloneta  America/Puerto_Rico   \n",
       "14                                         NaN                  NaN   \n",
       "15                                         NaN                  NaN   \n",
       "16                                         NaN                  NaN   \n",
       "17                                         NaN                  NaN   \n",
       "18                                         NaN                  NaN   \n",
       "19                                         NaN                  NaN   \n",
       "20                                         NaN                  NaN   \n",
       "21                                         NaN                  NaN   \n",
       "22                                         NaN                  NaN   \n",
       "23                                         NaN                  NaN   \n",
       "24                                         NaN                  NaN   \n",
       "25                                         NaN                  NaN   \n",
       "26                                     Arecibo  America/Puerto_Rico   \n",
       "27                                         NaN                  NaN   \n",
       "28                                         NaN                  NaN   \n",
       "29                                         NaN                  NaN   \n",
       "...                                        ...                  ...   \n",
       "42492               City and Borough of Juneau       America/Juneau   \n",
       "42493                    Hoonah-Angoon Borough                  NaN   \n",
       "42494               City and Borough of Juneau       America/Juneau   \n",
       "42495                           Juneau Borough       America/Juneau   \n",
       "42496                    Hoonah-Angoon Borough       America/Juneau   \n",
       "42497                    Hoonah-Angoon Borough       America/Juneau   \n",
       "42498                           Haines Borough       America/Juneau   \n",
       "42499                    Hoonah-Angoon Borough       America/Juneau   \n",
       "42500                       Petersburg Borough       America/Juneau   \n",
       "42501                    Hoonah-Angoon Borough       America/Juneau   \n",
       "42502                       Petersburg Borough       America/Juneau   \n",
       "42503                            Sitka Borough       America/Juneau   \n",
       "42504                       Petersburg Borough       America/Juneau   \n",
       "42505                          Skagway Borough       America/Juneau   \n",
       "42506                    Hoonah-Angoon Borough       America/Juneau   \n",
       "42507               City and Borough of Juneau       America/Juneau   \n",
       "42508                Ketchikan Gateway Borough       America/Juneau   \n",
       "42509  Prince of Wales-Outer Ketchikan Borough       America/Juneau   \n",
       "42510  Prince of Wales-Outer Ketchikan Borough       America/Juneau   \n",
       "42511  Prince of Wales-Outer Ketchikan Borough       America/Juneau   \n",
       "42512  Prince of Wales-Outer Ketchikan Borough       America/Juneau   \n",
       "42513  Prince of Wales-Outer Ketchikan Borough       America/Juneau   \n",
       "42514  Prince of Wales-Outer Ketchikan Borough       America/Juneau   \n",
       "42515  Prince of Wales-Outer Ketchikan Borough       America/Juneau   \n",
       "42516  Prince of Wales-Outer Ketchikan Borough       America/Juneau   \n",
       "42517  Prince of Wales-Outer Ketchikan Borough       America/Juneau   \n",
       "42518                Ketchikan Gateway Borough       America/Juneau   \n",
       "42519                         Wrangell Borough                  NaN   \n",
       "42520  Prince of Wales-Outer Ketchikan Borough       America/Juneau   \n",
       "42521  Prince of Wales-Outer Ketchikan Borough       America/Juneau   \n",
       "\n",
       "       area_codes  latitude  longitude world_region country  decommissioned  \\\n",
       "0             631     40.81     -73.04          NaN      US               0   \n",
       "1          787939     18.16     -66.72          NaN      US               0   \n",
       "2             787     18.38     -67.18          NaN      US               0   \n",
       "3             787     18.43     -67.15          NaN      US               0   \n",
       "4             NaN     18.43     -67.15          NaN      US               0   \n",
       "5             NaN     18.43     -67.15          NaN      US               0   \n",
       "6          787939     18.18     -66.98          NaN      US               0   \n",
       "7             787     18.28     -67.14          NaN      US               0   \n",
       "8             NaN     18.28     -66.79          NaN      US               0   \n",
       "9             787     18.45     -66.73          NaN      US               0   \n",
       "10            NaN     18.45     -66.73          NaN      US               0   \n",
       "11            NaN     18.45     -66.73          NaN      US               0   \n",
       "12            NaN     18.40     -66.66          NaN      US               0   \n",
       "13            787     18.45     -66.53          NaN      US               0   \n",
       "14            787     17.99     -67.15          NaN      US               0   \n",
       "15            787     18.08     -67.14          NaN      US               0   \n",
       "16            787     18.06     -66.72          NaN      US               0   \n",
       "17            787     18.48     -66.84          NaN      US               0   \n",
       "18            NaN     18.19     -66.82          NaN      US               0   \n",
       "19            NaN     18.15     -67.06          NaN      US               0   \n",
       "20            787     18.08     -66.96          NaN      US               0   \n",
       "21            787     18.33     -66.47          NaN      US               0   \n",
       "22            787     18.27     -66.70          NaN      US               0   \n",
       "23            787     18.47     -66.27          NaN      US               0   \n",
       "24            NaN     17.96     -66.94          NaN      US               0   \n",
       "25         787939     18.36     -66.56          NaN      US               0   \n",
       "26            787     18.45     -66.60          NaN      US               0   \n",
       "27            787     17.97     -66.93          NaN      US               0   \n",
       "28            787     18.02     -66.79          NaN      US               0   \n",
       "29            NaN     18.48     -66.82          NaN      US               0   \n",
       "...           ...       ...        ...          ...     ...             ...   \n",
       "42492         907     58.28    -134.40          NaN      US               0   \n",
       "42493         907     57.44    -134.48          NaN      US               0   \n",
       "42494         907     58.30    -134.42          NaN      US               0   \n",
       "42495         907     58.23    -134.38          NaN      US               0   \n",
       "42496         907     58.10    -136.29          NaN      US               0   \n",
       "42497         907     58.42    -135.78          NaN      US               0   \n",
       "42498         907     59.16    -135.86          NaN      US               0   \n",
       "42499         907     58.08    -135.43          NaN      US               0   \n",
       "42500         907     56.79    -134.19          NaN      US               0   \n",
       "42501         907     57.95    -136.11          NaN      US               0   \n",
       "42502         907     57.05    -132.62          NaN      US               0   \n",
       "42503         907     56.73    -135.00          NaN      US               0   \n",
       "42504         907     56.21    -134.66          NaN      US               0   \n",
       "42505         907     59.57    -135.35          NaN      US               0   \n",
       "42506         907     57.83    -135.13          NaN      US               0   \n",
       "42507         907     58.43    -135.38          NaN      US               0   \n",
       "42508         907     55.61    -131.58          NaN      US               0   \n",
       "42509         907     55.68    -132.19          NaN      US               0   \n",
       "42510         907     55.97    -132.74          NaN      US               0   \n",
       "42511         907     55.57    -132.39          NaN      US               0   \n",
       "42512         907     55.46    -132.83          NaN      US               0   \n",
       "42513         907     55.20    -132.81          NaN      US               0   \n",
       "42514         907     55.97    -130.04          NaN      US               0   \n",
       "42515         907     55.54    -132.96          NaN      US               0   \n",
       "42516         907     55.14    -131.49          NaN      US               0   \n",
       "42517         907     56.30    -133.57          NaN      US               0   \n",
       "42518         907     55.45    -131.79          NaN      US               0   \n",
       "42519         907     55.95    -131.96          NaN      US               0   \n",
       "42520         907     55.34    -131.64          NaN      US               0   \n",
       "42521         907     55.34    -131.64          NaN      US               0   \n",
       "\n",
       "       estimated_population          notes  \n",
       "0                         0            NaN  \n",
       "1                         0            NaN  \n",
       "2                         0            NaN  \n",
       "3                         0            NaN  \n",
       "4                         0            NaN  \n",
       "5                         0            NaN  \n",
       "6                         0            NaN  \n",
       "7                         0            NaN  \n",
       "8                         0  no NWS data,   \n",
       "9                         0            NaN  \n",
       "10                        0            NaN  \n",
       "11                        0            NaN  \n",
       "12                        0            NaN  \n",
       "13                        0            NaN  \n",
       "14                        0            NaN  \n",
       "15                        0            NaN  \n",
       "16                        0            NaN  \n",
       "17                        0            NaN  \n",
       "18                        0            NaN  \n",
       "19                        0            NaN  \n",
       "20                        0            NaN  \n",
       "21                        0            NaN  \n",
       "22                        0            NaN  \n",
       "23                        0            NaN  \n",
       "24                        0            NaN  \n",
       "25                        0            NaN  \n",
       "26                        0            NaN  \n",
       "27                        0            NaN  \n",
       "28                        0            NaN  \n",
       "29                        0            NaN  \n",
       "...                     ...            ...  \n",
       "42492                     0  no NWS data,   \n",
       "42493                     0            NaN  \n",
       "42494                  1307            NaN  \n",
       "42495                  1782            NaN  \n",
       "42496                     0            NaN  \n",
       "42497                   424            NaN  \n",
       "42498                  2152            NaN  \n",
       "42499                   660            NaN  \n",
       "42500                     0            NaN  \n",
       "42501                     0            NaN  \n",
       "42502                  2950            NaN  \n",
       "42503                  7498            NaN  \n",
       "42504                     0            NaN  \n",
       "42505                   971            NaN  \n",
       "42506                     0            NaN  \n",
       "42507                     0            NaN  \n",
       "42508                 10392            NaN  \n",
       "42509                     0            NaN  \n",
       "42510                     0            NaN  \n",
       "42511                     0            NaN  \n",
       "42512                  1367            NaN  \n",
       "42513                     0            NaN  \n",
       "42514                     0            NaN  \n",
       "42515                   682            NaN  \n",
       "42516                  1018            NaN  \n",
       "42517                     0            NaN  \n",
       "42518                  1281            NaN  \n",
       "42519                  1956            NaN  \n",
       "42520                     0  no NWS data,   \n",
       "42521                     0  no NWS data,   \n",
       "\n",
       "[42522 rows x 16 columns]"
      ]
     },
     "execution_count": 2,
     "metadata": {},
     "output_type": "execute_result"
    }
   ],
   "source": [
    "zipcodes = pd.read_csv(\"../data/zipcodes.csv\")\n",
    "zipcodes"
   ]
  },
  {
   "cell_type": "code",
   "execution_count": 6,
   "metadata": {
    "collapsed": false
   },
   "outputs": [
    {
     "data": {
      "image/png": "[encoded data removed]",
      "text/plain": [
       "<matplotlib.figure.Figure at 0x7f93bf388090>"
      ]
     },
     "metadata": {},
     "output_type": "display_data"
    },
    {
     "data": {
      "text/plain": [
       "<ggplot: (8767036105941)>"
      ]
     },
     "execution_count": 6,
     "metadata": {},
     "output_type": "execute_result"
    }
   ],
   "source": [
    "ggplot(zipcodes, aes(x = 'zip', y = 'latitude')) + \\\n",
    "    geom_point() + \\\n",
    "    ggtitle(\"(Latitude, Zipcode) Scatterplot\")"
   ]
  },
  {
   "cell_type": "code",
   "execution_count": 7,
   "metadata": {
    "collapsed": false
   },
   "outputs": [
    {
     "data": {
      "image/png": "[encoded data removed]",
      "text/plain": [
       "<matplotlib.figure.Figure at 0x7f93bec0b610>"
      ]
     },
     "metadata": {},
     "output_type": "display_data"
    },
    {
     "data": {
      "text/plain": [
       "<ggplot: (8767033583765)>"
      ]
     },
     "execution_count": 7,
     "metadata": {},
     "output_type": "execute_result"
    }
   ],
   "source": [
    "ggplot(zipcodes, aes(x = 'zip', y = 'longitude')) + \\\n",
    "    geom_point() + \\\n",
    "    ggtitle(\"(Longitude, Zipcode) Scatterplot\")"
   ]
  },
  {
   "cell_type": "code",
   "execution_count": 8,
   "metadata": {
    "collapsed": false
   },
   "outputs": [
    {
     "data": {
      "image/png": "[encoded data removed]",
      "text/plain": [
       "<matplotlib.figure.Figure at 0x7f93bf493590>"
      ]
     },
     "metadata": {},
     "output_type": "display_data"
    },
    {
     "data": {
      "text/plain": [
       "<ggplot: (8767033583757)>"
      ]
     },
     "execution_count": 8,
     "metadata": {},
     "output_type": "execute_result"
    }
   ],
   "source": [
    "ggplot(zipcodes, aes(x = 'longitude', y = 'latitude', color = 'zip')) + \\\n",
    "    geom_point() + \\\n",
    "    ggtitle(\"(Longitude, Latitude) Heatmap\")"
   ]
  },
  {
   "cell_type": "code",
   "execution_count": 9,
   "metadata": {
    "collapsed": false
   },
   "outputs": [
    {
     "data": {
      "image/png": "[encoded data removed]",
      "text/plain": [
       "<matplotlib.figure.Figure at 0x7f93bed54b90>"
      ]
     },
     "metadata": {},
     "output_type": "display_data"
    },
    {
     "data": {
      "text/plain": [
       "<ggplot: (8767034042797)>"
      ]
     },
     "execution_count": 9,
     "metadata": {},
     "output_type": "execute_result"
    }
   ],
   "source": [
    "ggplot(zipcodes[zipcodes['longitude'] < 0], aes(x = 'longitude', y = 'latitude', color = 'zip')) + \\\n",
    "    geom_point() + \\\n",
    "    ggtitle(\"(Longitude, Latitude) Heatmap\")"
   ]
  },
  {
   "cell_type": "markdown",
   "metadata": {},
   "source": [
    "### Objectives"
   ]
  },
  {
   "cell_type": "markdown",
   "metadata": {},
   "source": [
    "* **Quality of measurements**\n",
    "* **Quality of data**\n",
    "* **Initial transformations**\n",
    "* **Univariate statistics** (single variable)\n",
    "* **Bivariate associations** (correlations)\n",
    "* **Multivarite patterns** (analysis)"
   ]
  },
  {
   "cell_type": "markdown",
   "metadata": {},
   "source": [
    "### Missing Data"
   ]
  },
  {
   "cell_type": "markdown",
   "metadata": {},
   "source": [
    "In this section, we will discuss missing (also referred to as **NA**) values in pandas."
   ]
  },
  {
   "cell_type": "markdown",
   "metadata": {},
   "source": [
    "#### When / why does data become missing?"
   ]
  },
  {
   "cell_type": "markdown",
   "metadata": {},
   "source": [
    "Some might quibble over our usage of missing. By “missing” we simply mean null or “not present for whatever reason”. Many data sets simply arrive with missing data, either because it exists and was not collected or it never existed. For example, in a collection of financial time series, some of the time series might start on different dates. Thus, values prior to the start date would generally be marked as missing."
   ]
  },
  {
   "cell_type": "markdown",
   "metadata": {},
   "source": [
    "As data comes in many shapes and forms, pandas aims to be flexible with regard to handling missing data. While `NaN` is the default missing value marker for reasons of computational speed and convenience, we need to be able to easily detect this value with data of different types: floating point, integer, boolean, and general object. In many cases, however, the Python `None` will arise and we wish to also consider that “missing” or “null”.\n",
    "\n",
    "* NaN and None (in object arrays) are considered missing by the isnull and notnull functions. inf and -inf are no longer considered missing by default.\n",
    "* To make detecting missing values easier (and across different array dtypes), pandas provides the `isnull()` and `notnull()` functions, which are also methods on `Series` objects:"
   ]
  },
  {
   "cell_type": "code",
   "execution_count": 11,
   "metadata": {
    "collapsed": false
   },
   "outputs": [],
   "source": [
    "import pandas as pd\n",
    "import numpy as np\n",
    "from random import sample\n",
    "\n",
    "data = range(10)\n",
    "\n",
    "rows = sample(data, 6)\n",
    "rows = [2, 3, 6, 8, 5, 7]\n",
    "\n",
    "df = pd.DataFrame(data, columns=['data'])\n",
    "\n",
    "df['fulldata'] = data\n",
    "\n",
    "df.data.ix[rows[:3]] = None\n",
    "df.data.ix[rows[3:]] = np.nan"
   ]
  },
  {
   "cell_type": "code",
   "execution_count": 12,
   "metadata": {
    "collapsed": false
   },
   "outputs": [
    {
     "data": {
      "text/html": [
       "<div>\n",
       "<table border=\"1\" class=\"dataframe\">\n",
       "  <thead>\n",
       "    <tr style=\"text-align: right;\">\n",
       "      <th></th>\n",
       "      <th>data</th>\n",
       "      <th>fulldata</th>\n",
       "    </tr>\n",
       "  </thead>\n",
       "  <tbody>\n",
       "    <tr>\n",
       "      <th>0</th>\n",
       "      <td>0</td>\n",
       "      <td>0</td>\n",
       "    </tr>\n",
       "    <tr>\n",
       "      <th>1</th>\n",
       "      <td>1</td>\n",
       "      <td>1</td>\n",
       "    </tr>\n",
       "    <tr>\n",
       "      <th>2</th>\n",
       "      <td>NaN</td>\n",
       "      <td>2</td>\n",
       "    </tr>\n",
       "    <tr>\n",
       "      <th>3</th>\n",
       "      <td>NaN</td>\n",
       "      <td>3</td>\n",
       "    </tr>\n",
       "    <tr>\n",
       "      <th>4</th>\n",
       "      <td>4</td>\n",
       "      <td>4</td>\n",
       "    </tr>\n",
       "    <tr>\n",
       "      <th>5</th>\n",
       "      <td>NaN</td>\n",
       "      <td>5</td>\n",
       "    </tr>\n",
       "    <tr>\n",
       "      <th>6</th>\n",
       "      <td>NaN</td>\n",
       "      <td>6</td>\n",
       "    </tr>\n",
       "    <tr>\n",
       "      <th>7</th>\n",
       "      <td>NaN</td>\n",
       "      <td>7</td>\n",
       "    </tr>\n",
       "    <tr>\n",
       "      <th>8</th>\n",
       "      <td>NaN</td>\n",
       "      <td>8</td>\n",
       "    </tr>\n",
       "    <tr>\n",
       "      <th>9</th>\n",
       "      <td>9</td>\n",
       "      <td>9</td>\n",
       "    </tr>\n",
       "  </tbody>\n",
       "</table>\n",
       "</div>"
      ],
      "text/plain": [
       "   data  fulldata\n",
       "0     0         0\n",
       "1     1         1\n",
       "2   NaN         2\n",
       "3   NaN         3\n",
       "4     4         4\n",
       "5   NaN         5\n",
       "6   NaN         6\n",
       "7   NaN         7\n",
       "8   NaN         8\n",
       "9     9         9"
      ]
     },
     "execution_count": 12,
     "metadata": {},
     "output_type": "execute_result"
    }
   ],
   "source": [
    "df"
   ]
  },
  {
   "cell_type": "code",
   "execution_count": null,
   "metadata": {
    "collapsed": false
   },
   "outputs": [],
   "source": [
    "pd.isnull(df.data)\n",
    "# same as\n",
    "df.data.isnull()"
   ]
  },
  {
   "cell_type": "code",
   "execution_count": null,
   "metadata": {
    "collapsed": false
   },
   "outputs": [],
   "source": [
    "pd.notnull(df.data)\n",
    "# same as\n",
    "df.data.notnull()"
   ]
  },
  {
   "cell_type": "markdown",
   "metadata": {},
   "source": [
    "#### Calculations with missing data"
   ]
  },
  {
   "cell_type": "markdown",
   "metadata": {},
   "source": [
    "The descriptive statistics and computational methods in pandas are all written to account for missing data\n",
    "\n",
    "* When summing data, `NA` (missing) values will be treated as zero\n",
    "* If the data are all `NA`, the result will be `NA`\n",
    "* Methods like `cumsum` and `cumprod` ignore `NA` values, but preserve them in the resulting arrays"
   ]
  },
  {
   "cell_type": "code",
   "execution_count": 13,
   "metadata": {
    "collapsed": false
   },
   "outputs": [
    {
     "data": {
      "text/html": [
       "<div>\n",
       "<table border=\"1\" class=\"dataframe\">\n",
       "  <thead>\n",
       "    <tr style=\"text-align: right;\">\n",
       "      <th></th>\n",
       "      <th>data</th>\n",
       "      <th>fulldata</th>\n",
       "    </tr>\n",
       "  </thead>\n",
       "  <tbody>\n",
       "    <tr>\n",
       "      <th>0</th>\n",
       "      <td>0</td>\n",
       "      <td>0</td>\n",
       "    </tr>\n",
       "    <tr>\n",
       "      <th>1</th>\n",
       "      <td>1</td>\n",
       "      <td>1</td>\n",
       "    </tr>\n",
       "    <tr>\n",
       "      <th>2</th>\n",
       "      <td>NaN</td>\n",
       "      <td>2</td>\n",
       "    </tr>\n",
       "    <tr>\n",
       "      <th>3</th>\n",
       "      <td>NaN</td>\n",
       "      <td>3</td>\n",
       "    </tr>\n",
       "    <tr>\n",
       "      <th>4</th>\n",
       "      <td>4</td>\n",
       "      <td>4</td>\n",
       "    </tr>\n",
       "    <tr>\n",
       "      <th>5</th>\n",
       "      <td>NaN</td>\n",
       "      <td>5</td>\n",
       "    </tr>\n",
       "    <tr>\n",
       "      <th>6</th>\n",
       "      <td>NaN</td>\n",
       "      <td>6</td>\n",
       "    </tr>\n",
       "    <tr>\n",
       "      <th>7</th>\n",
       "      <td>NaN</td>\n",
       "      <td>7</td>\n",
       "    </tr>\n",
       "    <tr>\n",
       "      <th>8</th>\n",
       "      <td>NaN</td>\n",
       "      <td>8</td>\n",
       "    </tr>\n",
       "    <tr>\n",
       "      <th>9</th>\n",
       "      <td>9</td>\n",
       "      <td>9</td>\n",
       "    </tr>\n",
       "  </tbody>\n",
       "</table>\n",
       "</div>"
      ],
      "text/plain": [
       "   data  fulldata\n",
       "0     0         0\n",
       "1     1         1\n",
       "2   NaN         2\n",
       "3   NaN         3\n",
       "4     4         4\n",
       "5   NaN         5\n",
       "6   NaN         6\n",
       "7   NaN         7\n",
       "8   NaN         8\n",
       "9     9         9"
      ]
     },
     "execution_count": 13,
     "metadata": {},
     "output_type": "execute_result"
    }
   ],
   "source": [
    "df"
   ]
  },
  {
   "cell_type": "code",
   "execution_count": 14,
   "metadata": {
    "collapsed": false
   },
   "outputs": [
    {
     "data": {
      "text/plain": [
       "14.0"
      ]
     },
     "execution_count": 14,
     "metadata": {},
     "output_type": "execute_result"
    }
   ],
   "source": [
    "df['data'].sum()"
   ]
  },
  {
   "cell_type": "code",
   "execution_count": 15,
   "metadata": {
    "collapsed": false
   },
   "outputs": [
    {
     "data": {
      "text/plain": [
       "data        3.5\n",
       "fulldata    4.5\n",
       "dtype: float64"
      ]
     },
     "execution_count": 15,
     "metadata": {},
     "output_type": "execute_result"
    }
   ],
   "source": [
    "df.mean(0)"
   ]
  },
  {
   "cell_type": "code",
   "execution_count": 16,
   "metadata": {
    "collapsed": false
   },
   "outputs": [
    {
     "data": {
      "text/html": [
       "<div>\n",
       "<table border=\"1\" class=\"dataframe\">\n",
       "  <thead>\n",
       "    <tr style=\"text-align: right;\">\n",
       "      <th></th>\n",
       "      <th>data</th>\n",
       "      <th>fulldata</th>\n",
       "    </tr>\n",
       "  </thead>\n",
       "  <tbody>\n",
       "    <tr>\n",
       "      <th>0</th>\n",
       "      <td>0</td>\n",
       "      <td>0</td>\n",
       "    </tr>\n",
       "    <tr>\n",
       "      <th>1</th>\n",
       "      <td>1</td>\n",
       "      <td>1</td>\n",
       "    </tr>\n",
       "    <tr>\n",
       "      <th>2</th>\n",
       "      <td>NaN</td>\n",
       "      <td>3</td>\n",
       "    </tr>\n",
       "    <tr>\n",
       "      <th>3</th>\n",
       "      <td>NaN</td>\n",
       "      <td>6</td>\n",
       "    </tr>\n",
       "    <tr>\n",
       "      <th>4</th>\n",
       "      <td>5</td>\n",
       "      <td>10</td>\n",
       "    </tr>\n",
       "    <tr>\n",
       "      <th>5</th>\n",
       "      <td>NaN</td>\n",
       "      <td>15</td>\n",
       "    </tr>\n",
       "    <tr>\n",
       "      <th>6</th>\n",
       "      <td>NaN</td>\n",
       "      <td>21</td>\n",
       "    </tr>\n",
       "    <tr>\n",
       "      <th>7</th>\n",
       "      <td>NaN</td>\n",
       "      <td>28</td>\n",
       "    </tr>\n",
       "    <tr>\n",
       "      <th>8</th>\n",
       "      <td>NaN</td>\n",
       "      <td>36</td>\n",
       "    </tr>\n",
       "    <tr>\n",
       "      <th>9</th>\n",
       "      <td>14</td>\n",
       "      <td>45</td>\n",
       "    </tr>\n",
       "  </tbody>\n",
       "</table>\n",
       "</div>"
      ],
      "text/plain": [
       "   data  fulldata\n",
       "0     0         0\n",
       "1     1         1\n",
       "2   NaN         3\n",
       "3   NaN         6\n",
       "4     5        10\n",
       "5   NaN        15\n",
       "6   NaN        21\n",
       "7   NaN        28\n",
       "8   NaN        36\n",
       "9    14        45"
      ]
     },
     "execution_count": 16,
     "metadata": {},
     "output_type": "execute_result"
    }
   ],
   "source": [
    "df.cumsum()"
   ]
  },
  {
   "cell_type": "markdown",
   "metadata": {},
   "source": [
    "### Cleaning / filling missing data"
   ]
  },
  {
   "cell_type": "markdown",
   "metadata": {},
   "source": [
    "pandas objects are equipped with various data manipulation methods for dealing with missing data"
   ]
  },
  {
   "cell_type": "markdown",
   "metadata": {},
   "source": [
    "#### Filling missing values: `fillna()`"
   ]
  },
  {
   "cell_type": "markdown",
   "metadata": {},
   "source": [
    "The `fillna` function can “fill in” NA values with non-null data in a couple of ways, which we illustrate:"
   ]
  },
  {
   "cell_type": "markdown",
   "metadata": {},
   "source": [
    "##### Replace NA with a scalar value"
   ]
  },
  {
   "cell_type": "code",
   "execution_count": null,
   "metadata": {
    "collapsed": false
   },
   "outputs": [],
   "source": [
    "df"
   ]
  },
  {
   "cell_type": "code",
   "execution_count": null,
   "metadata": {
    "collapsed": false
   },
   "outputs": [],
   "source": [
    "df.fillna(0)"
   ]
  },
  {
   "cell_type": "code",
   "execution_count": null,
   "metadata": {
    "collapsed": false
   },
   "outputs": [],
   "source": [
    "df['data'].fillna('missing')"
   ]
  },
  {
   "cell_type": "markdown",
   "metadata": {},
   "source": [
    "#### Fill gaps forward or backward"
   ]
  },
  {
   "cell_type": "markdown",
   "metadata": {},
   "source": [
    "We can propagate non-null values forward or backward:"
   ]
  },
  {
   "cell_type": "code",
   "execution_count": null,
   "metadata": {
    "collapsed": false
   },
   "outputs": [],
   "source": [
    "df.fillna(method='pad')"
   ]
  },
  {
   "cell_type": "markdown",
   "metadata": {},
   "source": [
    "#### Limit the amount of filling"
   ]
  },
  {
   "cell_type": "markdown",
   "metadata": {},
   "source": [
    "If we only want consecutive gaps filled up to a certain number of data points, we can use the limit keyword:"
   ]
  },
  {
   "cell_type": "code",
   "execution_count": null,
   "metadata": {
    "collapsed": false
   },
   "outputs": [],
   "source": [
    "df.fillna(method='pad', limit=1)"
   ]
  },
  {
   "cell_type": "markdown",
   "metadata": {},
   "source": [
    "These are the available filling methods:"
   ]
  },
  {
   "cell_type": "markdown",
   "metadata": {},
   "source": [
    "| Method | Action |\n",
    "|--------|--------|\n",
    "| pad / ffill\tFill | values forward |\n",
    "| bfill / backfill | Fill values backward |"
   ]
  },
  {
   "cell_type": "markdown",
   "metadata": {},
   "source": [
    "With time series data, using pad/ffill is extremely common so that the “last known value” is available at every time point.\n",
    "\n",
    "The ffill() function is equivalent to fillna(method='ffill') and bfill() is equivalent to fillna(method='bfill')"
   ]
  },
  {
   "cell_type": "markdown",
   "metadata": {},
   "source": [
    "You can also fillna using a `dict` or `Series` that is alignable. The labels of the `dict` or `index` of the `Series` must match the columns of the frame you wish to fill. The use case of this is to fill a DataFrame with the mean of that column."
   ]
  },
  {
   "cell_type": "code",
   "execution_count": null,
   "metadata": {
    "collapsed": false
   },
   "outputs": [],
   "source": [
    "df.fillna(df.mean())\n",
    "df.data"
   ]
  },
  {
   "cell_type": "markdown",
   "metadata": {},
   "source": [
    "### Dropping axis labels with missing data: dropna"
   ]
  },
  {
   "cell_type": "markdown",
   "metadata": {},
   "source": [
    "You may wish to simply exclude labels from a data set which refer to missing data. To do this, use the dropna method:"
   ]
  },
  {
   "cell_type": "code",
   "execution_count": null,
   "metadata": {
    "collapsed": false
   },
   "outputs": [],
   "source": [
    "df"
   ]
  },
  {
   "cell_type": "code",
   "execution_count": null,
   "metadata": {
    "collapsed": false
   },
   "outputs": [],
   "source": [
    "df.dropna()"
   ]
  },
  {
   "cell_type": "code",
   "execution_count": null,
   "metadata": {
    "collapsed": false
   },
   "outputs": [],
   "source": [
    "df.dropna(axis=1)"
   ]
  },
  {
   "cell_type": "markdown",
   "metadata": {},
   "source": [
    "For a full overview of the API, see the [documentation](http://pandas.pydata.org/pandas-docs/dev/api.html#api-dataframe-missing)"
   ]
  },
  {
   "cell_type": "markdown",
   "metadata": {},
   "source": [
    "### Interpolation"
   ]
  },
  {
   "cell_type": "markdown",
   "metadata": {},
   "source": [
    "Both Series and Dataframe objects have an interpolate method that, by default, performs linear interpolation at missing datapoints."
   ]
  },
  {
   "cell_type": "markdown",
   "metadata": {},
   "source": [
    "This is where datatypes become important again. Notice the `dtype` of the 'data' column."
   ]
  },
  {
   "cell_type": "code",
   "execution_count": null,
   "metadata": {
    "collapsed": false
   },
   "outputs": [],
   "source": [
    "df.data"
   ]
  },
  {
   "cell_type": "markdown",
   "metadata": {},
   "source": [
    "First we need to get rid of the 'None' values, as this makes it into the loosest 'object' datatype. Using NaN we can use the float dataetime.."
   ]
  },
  {
   "cell_type": "code",
   "execution_count": null,
   "metadata": {
    "collapsed": false
   },
   "outputs": [],
   "source": [
    "df.isnull()"
   ]
  },
  {
   "cell_type": "code",
   "execution_count": null,
   "metadata": {
    "collapsed": false
   },
   "outputs": [],
   "source": [
    "df[df.isnull()] = np.nan\n",
    "df"
   ]
  },
  {
   "cell_type": "markdown",
   "metadata": {},
   "source": [
    "use `astype` to coerce a column into a specific datatype."
   ]
  },
  {
   "cell_type": "code",
   "execution_count": null,
   "metadata": {
    "collapsed": false
   },
   "outputs": [],
   "source": [
    "df.data.astype('float')"
   ]
  },
  {
   "cell_type": "code",
   "execution_count": null,
   "metadata": {
    "collapsed": false
   },
   "outputs": [],
   "source": [
    "df.data = df.data.astype(np.float)"
   ]
  },
  {
   "cell_type": "code",
   "execution_count": null,
   "metadata": {
    "collapsed": false
   },
   "outputs": [],
   "source": [
    "df.data"
   ]
  },
  {
   "cell_type": "code",
   "execution_count": null,
   "metadata": {
    "collapsed": false
   },
   "outputs": [],
   "source": [
    "df.interpolate()"
   ]
  },
  {
   "cell_type": "markdown",
   "metadata": {},
   "source": [
    "For a floating-point index, use method='values'"
   ]
  },
  {
   "cell_type": "code",
   "execution_count": null,
   "metadata": {
    "collapsed": false
   },
   "outputs": [],
   "source": [
    "dfxx = df.ix[[0,2,5,9]]"
   ]
  },
  {
   "cell_type": "code",
   "execution_count": null,
   "metadata": {
    "collapsed": false
   },
   "outputs": [],
   "source": [
    "dfxx"
   ]
  },
  {
   "cell_type": "code",
   "execution_count": null,
   "metadata": {
    "collapsed": false
   },
   "outputs": [],
   "source": [
    "dfxx.interpolate()"
   ]
  },
  {
   "cell_type": "code",
   "execution_count": null,
   "metadata": {
    "collapsed": false
   },
   "outputs": [],
   "source": [
    "dfxx.interpolate(method='values')"
   ]
  },
  {
   "cell_type": "markdown",
   "metadata": {},
   "source": [
    "As a practical review of what's discussed here see this [summary](http://manishamde.github.io/blog/2013/03/07/pandas-and-python-top-10/#missing)"
   ]
  },
  {
   "cell_type": "markdown",
   "metadata": {},
   "source": [
    "### Tips"
   ]
  },
  {
   "cell_type": "markdown",
   "metadata": {},
   "source": [
    "Food servers’ tips in restaurants may be influenced by many factors, including the nature of the restaurant, size of the party, and table locations in the restaurant. Restaurant managers need to know which factors matter when they assign tables to food servers. For the sake of staff morale, they usually want to avoid either the substance or the appearance of unfair treatment of the servers, for whom tips (at least in restaurants in the United States) are a major component of pay."
   ]
  },
  {
   "cell_type": "markdown",
   "metadata": {},
   "source": [
    "In one restaurant, a food server recorded the following data on all customers they served during an interval of two and a half months in early 1990. The restaurant, located in a suburban shopping mall, was part of a national chain and served a varied menu. In observance of local law the restaurant offered seating in a non-smoking section to patrons who requested it. Each record includes a day and time, and taken together, they show the server’s work schedule."
   ]
  },
  {
   "cell_type": "markdown",
   "metadata": {},
   "source": [
    "    Source: Bryant, P. G. and Smith, M. A. (1995), Practical Data Analysis:\n",
    "    Case Studies in Business Statistics, Richard D. Irwin Publishing, Homewood, IL."
   ]
  },
  {
   "cell_type": "markdown",
   "metadata": {},
   "source": [
    "**What are the factors that affect tipping behavior?**"
   ]
  },
  {
   "cell_type": "markdown",
   "metadata": {},
   "source": [
    "#### Load the Dataset"
   ]
  },
  {
   "cell_type": "code",
   "execution_count": null,
   "metadata": {
    "collapsed": false
   },
   "outputs": [],
   "source": [
    "from ggplot import *\n",
    "\n",
    "tips = pd.read_csv('../data/tips.csv')"
   ]
  },
  {
   "cell_type": "markdown",
   "metadata": {},
   "source": [
    "#### Inspect the variables"
   ]
  },
  {
   "cell_type": "code",
   "execution_count": null,
   "metadata": {
    "collapsed": false
   },
   "outputs": [],
   "source": [
    "tips.describe()"
   ]
  },
  {
   "cell_type": "code",
   "execution_count": null,
   "metadata": {
    "collapsed": false
   },
   "outputs": [],
   "source": [
    "# info() is more informative than 'describe()' as\n",
    "# it gives you the datatypes length of dataset\n",
    "\n",
    "tips.info()"
   ]
  },
  {
   "cell_type": "code",
   "execution_count": null,
   "metadata": {
    "collapsed": false,
    "scrolled": false
   },
   "outputs": [],
   "source": [
    "# tips['smoker'].value_counts()\n",
    "# tips[['smoker']].value_counts()\n",
    "\n",
    "tips.index\n",
    "# tips.ix[2:5, :'day']\n",
    "tips.iloc[:,:]"
   ]
  },
  {
   "cell_type": "code",
   "execution_count": null,
   "metadata": {
    "collapsed": false
   },
   "outputs": [],
   "source": [
    "# Look at a random sample of the rows\n",
    "tips.ix[sample(tips.index,10)]"
   ]
  },
  {
   "cell_type": "code",
   "execution_count": null,
   "metadata": {
    "collapsed": false
   },
   "outputs": [],
   "source": [
    "# Inspect head and tail of the dataset"
   ]
  },
  {
   "cell_type": "code",
   "execution_count": null,
   "metadata": {
    "collapsed": false
   },
   "outputs": [],
   "source": [
    "tips.head()"
   ]
  },
  {
   "cell_type": "code",
   "execution_count": null,
   "metadata": {
    "collapsed": false
   },
   "outputs": [],
   "source": [
    "tips.tail()"
   ]
  },
  {
   "cell_type": "markdown",
   "metadata": {},
   "source": [
    "We look first at the variable of greatest interest to the waiter: tip. A common graph for looking at a single variable is the histogram, where data values are binned and the count is represented by a rectangular bar."
   ]
  },
  {
   "cell_type": "markdown",
   "metadata": {},
   "source": [
    "### Tip\n",
    "\n",
    "Start your exploration of a single parameter - usually you'd pick the more important one for your research question."
   ]
  },
  {
   "cell_type": "code",
   "execution_count": null,
   "metadata": {
    "collapsed": false
   },
   "outputs": [],
   "source": [
    "ggplot(tips, aes(x='tip')) + geom_histogram(binwidth=1)"
   ]
  },
  {
   "cell_type": "code",
   "execution_count": null,
   "metadata": {
    "collapsed": false
   },
   "outputs": [],
   "source": [
    "# Draw with black outline, yellow fill\n",
    "ggplot(tips, aes(x='tip')) + geom_histogram(binwidth=1, colour=\"black\", fill=\"yellow\")"
   ]
  },
  {
   "cell_type": "code",
   "execution_count": null,
   "metadata": {
    "collapsed": false
   },
   "outputs": [],
   "source": [
    "# Density curve\n",
    "ggplot(tips, aes(x='tip')) + geom_density()"
   ]
  },
  {
   "cell_type": "code",
   "execution_count": null,
   "metadata": {
    "collapsed": false
   },
   "outputs": [],
   "source": [
    "# Histogram overlaid with kernel density curve\n",
    "ggplot(tips, aes(x='tip')) + \\\n",
    "    geom_histogram(aes(y='..density..'),      # Histogram with density instead of count on y-axis\n",
    "                   binwidth=0.1,\n",
    "                   colour=\"black\", fill=\"yellow\")"
   ]
  },
  {
   "cell_type": "code",
   "execution_count": null,
   "metadata": {
    "collapsed": false
   },
   "outputs": [],
   "source": [
    "# Add a line for the mean:\n",
    "avg_tips = np.mean(tips.tip)\n",
    "\n",
    "ggplot(tips, aes(x='tip')) + \\\n",
    "    geom_histogram(aes(y='..density..'),      # Histogram with density instead of count on y-axis\n",
    "                   binwidth=1,\n",
    "                   colour=\"black\",\n",
    "                   fill=\"yellow\") + \\\n",
    "    geom_vline(aes(xintercept=avg_tips),\n",
    "               color=\"red\",\n",
    "               linetype=\"dashed\",\n",
    "               size=2)"
   ]
  },
  {
   "cell_type": "markdown",
   "metadata": {},
   "source": [
    "The distribution appears to be unimodal; that is, it has one peak, the bar representing the tips greater than \\$1.50 and less than or equal \\$2.50. There are\n",
    "very few tips of \\$1.50 or less. The number of larger tips trails off rapidly, which suggests that this is not a very expensive restaurant.\n",
    "\n",
    "The conclusions drawn from a histogram are often influenced by the choice of bin width, which is a parameter of the _graph_ and not of the _data_.\n"
   ]
  },
  {
   "cell_type": "markdown",
   "metadata": {},
   "source": [
    "#### Tip 2\n",
    "Experiment with different bin-widths for you histograms - at low granulairty, you'll get a better idea of the overall distribution, at higher levels of granulairty you can inspect whether any 'clipping' is occuring. In other words, **a large bin width smooths out the graph and shows rough or global trends, whereas a smaller bin width highlights more local features**."
   ]
  },
  {
   "cell_type": "code",
   "execution_count": null,
   "metadata": {
    "collapsed": false
   },
   "outputs": [],
   "source": [
    "# Draw with black outline, yellow fill, binwidth at $0.10\n",
    "p01 = ggplot(tips, aes(x='tip')) + geom_histogram(binwidth=0.1, colour=\"black\", fill=\"yellow\")\n",
    "\n",
    "# Draw with black outline, yellow fill, binwidth at $0.50\n",
    "p05 = ggplot(tips, aes(x='tip')) + geom_histogram(binwidth=0.5, colour=\"black\", fill=\"yellow\")\n",
    "\n",
    "# Draw with black outline, yellow fill, binwidth at $1\n",
    "p1 = ggplot(tips, aes(x='tip')) + geom_histogram(binwidth=1, colour=\"black\", fill=\"yellow\")\n",
    "\n",
    "# Draw with black outline, yellow fill, binwidth at $1\n",
    "p4 = ggplot(tips, aes(x='tip')) + geom_histogram(binwidth=4, colour=\"black\", fill=\"yellow\")"
   ]
  },
  {
   "cell_type": "code",
   "execution_count": null,
   "metadata": {
    "collapsed": false
   },
   "outputs": [],
   "source": [
    "p05"
   ]
  },
  {
   "cell_type": "code",
   "execution_count": null,
   "metadata": {
    "collapsed": false
   },
   "outputs": [],
   "source": [
    "p1"
   ]
  },
  {
   "cell_type": "code",
   "execution_count": null,
   "metadata": {
    "collapsed": false
   },
   "outputs": [],
   "source": [
    "p4"
   ]
  },
  {
   "cell_type": "markdown",
   "metadata": {},
   "source": [
    "This shows a histogram with a smaller bin width, 10c. At the smaller bin width the shape is multimodal, and it is clear that there are large peaks at the full\n",
    "dollars and smaller peaks at the half dollar. This shows that the customers tended to round the tip to the nearest fifty cents or dollar.\n",
    "\n",
    "So far we have not addressed the primary question: What relationships exist between tip and the other variables? Since the tip is usually calculated\n",
    "based on the bill, it is natural to look first at a graph of tip and bill. A common graph for looking at a pair of continuous variables is the scatterplot.\n"
   ]
  },
  {
   "cell_type": "markdown",
   "metadata": {},
   "source": [
    "### Scatterplot"
   ]
  },
  {
   "cell_type": "code",
   "execution_count": null,
   "metadata": {
    "collapsed": false
   },
   "outputs": [],
   "source": [
    "# GET EQUATION AND R-SQUARED AS STRING\n",
    "# SOURCE: http://goo.gl/K4yh\n",
    "tb = tips['totbill']\n",
    "tr = tips['totbill'] * 0.18\n",
    "\n",
    "ggplot(aes(x = 'totbill', y = 'tip'), data = tips) + \\\n",
    "    geom_line(aes(tb, tr), colour = \"red\", size = 1,) + \\\n",
    "    geom_point(colour = \"black\", size = 5)"
   ]
  },
  {
   "cell_type": "markdown",
   "metadata": {},
   "source": [
    "We see that the variables are highly correlated ($r$ = 0.68), which confirms that tip is calculated from the bill. We have added a line representing a tip rate of 18\\%. Disappointingly for the waiter, there are many more points below the line than above it: There are many more “cheap tippers” than generous tippers. There are a couple of notable exceptions, especially one party who gave a \\$5.15 tip for a \\$7.25 bill, which works out to a tip rate of about 70%."
   ]
  },
  {
   "cell_type": "markdown",
   "metadata": {},
   "source": [
    "**Histogram and density plots with multiple groups**"
   ]
  },
  {
   "cell_type": "code",
   "execution_count": null,
   "metadata": {
    "collapsed": false
   },
   "outputs": [],
   "source": [
    "# Overlaid histograms\n",
    "ggplot(tips, aes(x='tip', fill='sex')) + \\\n",
    "    geom_histogram(binwidth=1, alpha=.5, position=\"identity\")"
   ]
  },
  {
   "cell_type": "code",
   "execution_count": null,
   "metadata": {
    "collapsed": false
   },
   "outputs": [],
   "source": [
    "# Density plots\n",
    "ggplot(tips, aes(x='tip', colour='sex')) + geom_density()"
   ]
  },
  {
   "cell_type": "code",
   "execution_count": null,
   "metadata": {
    "collapsed": false
   },
   "outputs": [],
   "source": [
    "# Density plots with semi-transparent fill\n",
    "ggplot(tips, aes(x='tip', fill='sex')) + geom_density(alpha=.3)"
   ]
  },
  {
   "cell_type": "markdown",
   "metadata": {},
   "source": [
    "We said earlier that an essential aspect of data visualization is capturing relationships among many variables: three, four, or even more. This dataset,\n",
    "simple as it is, illustrates the point. Let us ask, for example, how a third variable such as sex affects the relationship between tip and bill. As sex is\n",
    "categorical with two levels (i.e., binary), it is natural to divide the data into female and male payers and to generate two scatterplots of tip vs. bill. Let us go even further by including a fourth variable, smoking, which is also binary. We now divide the data into four parts and generate the four scatterplots."
   ]
  },
  {
   "cell_type": "code",
   "execution_count": null,
   "metadata": {
    "collapsed": false
   },
   "outputs": [],
   "source": [
    "!sudo /home/io/.tools/anaconda/bin/pip install rpy2"
   ]
  },
  {
   "cell_type": "code",
   "execution_count": null,
   "metadata": {
    "collapsed": false
   },
   "outputs": [],
   "source": [
    "import rpy2\n",
    "import pandas as pd\n",
    "%load_ext rpy2.ipython"
   ]
  },
  {
   "cell_type": "code",
   "execution_count": null,
   "metadata": {
    "collapsed": false
   },
   "outputs": [],
   "source": [
    "%%R\n",
    "# The R version of this code\n",
    "\n",
    "# install.packages('ggplot2')\n",
    "# install.packages('gridExtra')\n",
    "library('ggplot2')\n",
    "library('gridExtra')\n",
    "tips <- read.csv('../data//tips.csv')\n",
    "\n",
    "# GET EQUATION AND R-SQUARED AS STRING\n",
    "# SOURCE: http://goo.gl/K4yhz\n",
    "\n",
    "plt_cor <- function(subs,x,y) {\n",
    "  plot_cor <- cor(subs[[x]],subs[[y]])\n",
    "  return(round(plot_cor,2))\n",
    "}\n",
    "\n",
    "p1 <- ggplot(data = subset(tips, (sex == 'M' & smoker == 'No')), aes(x = totbill, y = tip)) +\n",
    "        geom_point(colour = \"black\", size = 5) +\n",
    "        geom_line(colour = \"red\", size = 1, aes(totbill, totbill*0.18)) +\n",
    "        geom_text(aes(45, 7 ,label = '18%', vjust = -1)) +\n",
    "        geom_text(aes(10, 9 ,label = paste('r', plt_cor(subset(tips, (sex == 'M' & smoker == 'No')),'totbill','tip')), vjust = -1)) +\n",
    "        ggtitle(\"Male Non-Smokers\") +\n",
    "        xlim(1,50) + ylim(1,10)\n",
    "\n",
    "p2 <- ggplot(data = subset(tips, (sex == 'M' & smoker == 'Yes')), aes(x = totbill, y = tip)) +\n",
    "        geom_point(colour = \"black\", size = 5) +\n",
    "        geom_line(colour = \"red\", size = 1, aes(totbill, totbill*0.18)) +\n",
    "        geom_text(aes(45, 7 ,label = '18%', vjust = -1)) +\n",
    "        geom_text(aes(10, 9 ,label = paste('r', plt_cor(subset(tips, (sex == 'M' & smoker == 'Yes')),'totbill','tip')), vjust = -1)) +\n",
    "        ggtitle(\"Male Smokers\") +\n",
    "        xlim(1,50) + ylim(1,10)\n",
    "\n",
    "\n",
    "p3 <- ggplot(data = subset(tips, (sex == 'F' & smoker == 'No')), aes(x = totbill, y = tip)) +\n",
    "        geom_point(colour = \"black\", size = 5) +\n",
    "        geom_line(colour = \"red\", size = 1, aes(totbill, totbill*0.18)) +\n",
    "        geom_text(aes(45, 7 ,label = '18%', vjust = -1)) +\n",
    "        geom_text(aes(10, 9 ,label = paste('r', plt_cor(subset(tips, (sex == 'F' & smoker == 'No')),'totbill','tip')), vjust = -1)) +\n",
    "        ggtitle(\"Female Non-Smokers\") +\n",
    "        xlim(1,50) + ylim(1,10)\n",
    "\n",
    "\n",
    "p4 <- ggplot(data = subset(tips, (sex == 'F' & smoker == 'Yes')), aes(x = totbill, y = tip)) +\n",
    "        geom_point(colour = \"black\", size = 5) +\n",
    "        geom_line(colour = \"red\", size = 1, aes(totbill, totbill*0.18)) +\n",
    "        geom_text(aes(45, 7 ,label = '18%', vjust = -1)) +\n",
    "        geom_text(aes(10, 9 ,label = paste('r', plt_cor(subset(tips, (sex == 'F' & smoker == 'Yes')),'totbill','tip')), vjust = -1)) +\n",
    "        ggtitle(\"Female Smokers\") +\n",
    "        xlim(1,50) + ylim(1,10)\n",
    "\n",
    "grid.arrange(p1, p2, p3, p4, ncol = 2, main = \"Scatterplots with different sample subsets\")"
   ]
  },
  {
   "cell_type": "markdown",
   "metadata": {},
   "source": [
    "![](assets/unnamed-chunk-52-1.png)"
   ]
  },
  {
   "cell_type": "markdown",
   "metadata": {},
   "source": [
    "Inspecting these plots reveals numerous features:"
   ]
  },
  {
   "cell_type": "markdown",
   "metadata": {},
   "source": [
    "1. For smoking parties, there is a lot less association between the size of the tip and the size of the bill; \n",
    "1. When a female non-smoker paid the bill, the tip was a very consistent percentage of the bill, with the exceptions of three dining parties;\n",
    "1. larger bills were mostly paid by men."
   ]
  },
  {
   "cell_type": "markdown",
   "metadata": {},
   "source": [
    "In the above example we gained a wealth of insight in a short time. Using nothing but graphical methods we investigated univariate, bivariate, and multivariate relationships. We found both global features and local detail. We saw that tips were rounded; then we saw the obvious correlation between the tip and the size of the bill, noting the scarcity of generous tippers; finally we discovered differences in the tipping behavior of male and female smokers and non-smokers. In contrast, an old-fashioned approach without graphics would be to fit a regression model. Without subtle regression diagnostics (which rely on graphics!), mmthis approach would miss many of the above insights."
   ]
  },
  {
   "cell_type": "markdown",
   "metadata": {},
   "source": [
    "## The Bigger picture"
   ]
  },
  {
   "cell_type": "markdown",
   "metadata": {},
   "source": [
    "![](assets/images-mod1-big-picture-eda.gif)"
   ]
  },
  {
   "cell_type": "markdown",
   "metadata": {},
   "source": [
    "To understand data analysis, and how visualization fits in, it is useful to talk about it as a process consisting of several stages:"
   ]
  },
  {
   "cell_type": "markdown",
   "metadata": {},
   "source": [
    "#### The problem statement\n",
    "\n",
    "Why do you want to analyze this data? Underlying every dataset is a question or problem statement. For the tipping data the question was provided to us from the data source: “What are the factors that affect tipping behavior?” This problem statement drives the process of any data analysis. Sometimes the problem is identified prior to a data collection. Perhaps it is realized after data becomes available because having the data available has made it possible to imagine new issues\n",
    "\n",
    "#### Data preparation\n",
    "\n",
    "During this class, I always hand you a single data matrix with each variable clearly defined. In the real world, it can take a great deal of work to construct a clean data matrix. For example, data values may be missing or misrecorded, data may be distributed across several sources, and the variable definitions and data values may be inconsistent across these sources. It is therefore not uncommon for this stage to consume most of the effort that goes into a project. And it is also not uncommon to loop back to this stage after completing the subsequent stages, to re-prepare and re-analyze the data.\n",
    "\n",
    "#### Exploratory data analysis\n",
    "\n",
    "At this stage in the analysis, we make time to “play in the sand” to allow us to find the unexpected, and come to some understanding of our data. It is characterized by direct manipulation and dynamic graphics: plots that respond in real time to an analyst’s queries and change dynamically to re-focus, link to information from other sources, and re-organize information. The analyst can work rapidly and thoroughly through the data, slipping out of dead-ends and chasing down new leads. The high level of interactivity is enabled by bare-bones graphics, which are generally not adequate for presentation purposes.\n",
    "\n",
    "#### Quantitative analysis\n",
    "\n",
    "At this stage, we use statistical modeling and statistical interference to answer our primary questions. With statistical models, we summarize complex data, decomposing it into estimates of signal and noise. With statistical inference, we try to assess whether a signal is real. Data visualization plays an important role at this stage, although that is less well known than its key role in exploration. It is helpful both in better understanding a model and in assessing its validity in relation to the data.\n",
    "\n",
    "For Tips, we have not yet answered the primary question of interest. Let’s fit a regression model using tiprate as the response and the remaining variables (except tip and bill) as the explanatory variables. When we do this, only `size` has a significant regression coefficient. "
   ]
  },
  {
   "cell_type": "markdown",
   "metadata": {},
   "source": [
    "`ggplot` support for python is still under development, so for our linear model plots, let's use a tool called seaborn."
   ]
  },
  {
   "cell_type": "code",
   "execution_count": null,
   "metadata": {
    "collapsed": false
   },
   "outputs": [],
   "source": [
    "import numpy as np\n",
    "import pandas as pd\n",
    "import seaborn as sns\n",
    "import matplotlib as mpl\n",
    "import matplotlib.pyplot as plt"
   ]
  },
  {
   "cell_type": "markdown",
   "metadata": {},
   "source": [
    "#### Visualizing multiple regression with lmplot()"
   ]
  },
  {
   "cell_type": "code",
   "execution_count": null,
   "metadata": {
    "collapsed": false
   },
   "outputs": [],
   "source": [
    "with sns.plotting_context(context='poster'):\n",
    "    sns.lmplot(\"totbill\", \"tip\", tips, size=9, aspect=2)"
   ]
  },
  {
   "cell_type": "code",
   "execution_count": null,
   "metadata": {
    "collapsed": false
   },
   "outputs": [],
   "source": [
    "tips"
   ]
  },
  {
   "cell_type": "markdown",
   "metadata": {},
   "source": [
    "This plot has two main components. The first is a scatterplot, showing the observed datapoints. The second is a regression line, showing the estimated linear model relating the two variables. Because the regression line is only an estimate, it is plotted with a 95% confidence band to give an impression of the certainty in the model. You can plot different levels of certainty"
   ]
  },
  {
   "cell_type": "markdown",
   "metadata": {},
   "source": [
    "#### Plotting with discrete predictor variables"
   ]
  },
  {
   "cell_type": "markdown",
   "metadata": {},
   "source": [
    "Sometimes you will want to plot data where the independent variable is quantitative, but discrete. Although this works fine out of the box:"
   ]
  },
  {
   "cell_type": "code",
   "execution_count": null,
   "metadata": {
    "collapsed": false
   },
   "outputs": [],
   "source": [
    "with sns.plotting_context(context='poster'):\n",
    "    sns.lmplot(\"size\", \"tip\", tips, size=6, aspect=2)"
   ]
  },
  {
   "cell_type": "markdown",
   "metadata": {},
   "source": [
    "And can be improved with a bit of jitter:"
   ]
  },
  {
   "cell_type": "code",
   "execution_count": null,
   "metadata": {
    "collapsed": false
   },
   "outputs": [],
   "source": [
    "with sns.plotting_context(context='poster'):\n",
    "    sns.lmplot(\"size\", \"tip\", tips, size=6, aspect=2, x_jitter=.15);"
   ]
  },
  {
   "cell_type": "markdown",
   "metadata": {},
   "source": [
    "It might be more informative to estimate the central tendency of each bin. This is easy to do with the x_estimator argument. Just pass any function that aggregates a vector of data into one estimate. The estimator will be bootstrapped and a confidence interval will be plotted – 95% by default, as in other cases within these functions."
   ]
  },
  {
   "cell_type": "code",
   "execution_count": null,
   "metadata": {
    "collapsed": false
   },
   "outputs": [],
   "source": [
    "with sns.plotting_context(context='poster'):\n",
    "    sns.lmplot(\"size\", \"tip\", tips, x_estimator=np.mean, size=6, aspect=2);"
   ]
  },
  {
   "cell_type": "markdown",
   "metadata": {},
   "source": [
    "### So what about the model?"
   ]
  },
  {
   "cell_type": "markdown",
   "metadata": {},
   "source": [
    "Are we satisfied with this model? We have some doubts about it."
   ]
  },
  {
   "cell_type": "code",
   "execution_count": null,
   "metadata": {
    "collapsed": false
   },
   "outputs": [],
   "source": [
    "tips['tiprate'] = tips.tip / tips.totbill"
   ]
  },
  {
   "cell_type": "code",
   "execution_count": null,
   "metadata": {
    "collapsed": false
   },
   "outputs": [],
   "source": [
    "len(tips[tips['tiprate'] < 0.18])"
   ]
  },
  {
   "cell_type": "code",
   "execution_count": null,
   "metadata": {
    "collapsed": false
   },
   "outputs": [],
   "source": [
    "from statsmodels.formula.api import ols\n",
    "\n",
    "results = ols('tip ~ totbill', tips).fit()\n",
    "results.summary()"
   ]
  },
  {
   "cell_type": "markdown",
   "metadata": {},
   "source": [
    "However, in this data it explains only 2% of the variation in tip rate. The points are spread widely around the regression line. There are very few data points for parties of size one, five, and six, which makes us question the validity of the model in these regions. The signal is very weak relative to the noise."
   ]
  },
  {
   "cell_type": "markdown",
   "metadata": {},
   "source": [
    "### Presentation"
   ]
  },
  {
   "cell_type": "markdown",
   "metadata": {},
   "source": [
    "Once an analysis has been completed, the results must be reported, either to clients, managers, or colleagues. The results probably take the form of a narrative and include quantitative summaries such as tables, forecasts, models, and graphics. Quite often, graphics form the bulk of the summaries."
   ]
  },
  {
   "cell_type": "markdown",
   "metadata": {},
   "source": [
    "Let's look at some other ways in which data can be sliced and diced in graphs"
   ]
  },
  {
   "cell_type": "markdown",
   "metadata": {},
   "source": [
    "#### Faceted linear model plots"
   ]
  },
  {
   "cell_type": "markdown",
   "metadata": {},
   "source": [
    "The lmplot() function is built on top of a FacetGrid. That means it’s easy to visualize how this relationship changes in different subsets of your dataset. You can read the extended documentation for more details on how the FacetGrid class works. The important thing is that you can supply the names of categorical variables that define subsets of the data to plot in different hues or along the row and columns of a grid of axes.\n",
    "\n",
    "Using a hue facet makes it easiest to directly compare the two subsets:"
   ]
  },
  {
   "cell_type": "code",
   "execution_count": null,
   "metadata": {
    "collapsed": false
   },
   "outputs": [],
   "source": [
    "with sns.plotting_context(context='poster'):\n",
    "    sns.lmplot(\"totbill\", \"tip\", tips, hue=\"smoker\", size=8, aspect=2);"
   ]
  },
  {
   "cell_type": "markdown",
   "metadata": {},
   "source": [
    "To make plots that will better reproduce to black-and-white (i.e. when printed), you may want to let the scatterplot marker vary along with the hue variable."
   ]
  },
  {
   "cell_type": "markdown",
   "metadata": {},
   "source": [
    "`lmplot()` accepts all arguments that you would use to initialize a FacetGrid, and it returns the grid object after plotting for further tweaking:"
   ]
  },
  {
   "cell_type": "code",
   "execution_count": null,
   "metadata": {
    "collapsed": false
   },
   "outputs": [],
   "source": [
    "with sns.plotting_context(context='poster'):\n",
    "    sns.lmplot(\"totbill\", \"tip\", tips, hue=\"smoker\", markers=[\"x\", \"o\"], size=6, aspect=2);"
   ]
  },
  {
   "cell_type": "markdown",
   "metadata": {},
   "source": [
    "Plotting in different columns of a grid also makes a plot that’s easy to understand, although direct comparisons between the subsets are more difficult as the data are separated in space. This might be better when you want the viewer to focus on the relationship within each subset independently."
   ]
  },
  {
   "cell_type": "code",
   "execution_count": null,
   "metadata": {
    "collapsed": false
   },
   "outputs": [],
   "source": [
    "with sns.plotting_context(context='poster'):\n",
    "    sns.lmplot(\"totbill\", \"tip\", tips, col=\"smoker\")"
   ]
  },
  {
   "cell_type": "markdown",
   "metadata": {},
   "source": [
    "`lmplot()` accepts all arguments that you would use to initialize a FacetGrid, and it returns the grid object after plotting for further tweaking:"
   ]
  },
  {
   "cell_type": "code",
   "execution_count": null,
   "metadata": {
    "collapsed": false
   },
   "outputs": [],
   "source": [
    "sun_tips = tips[tips['day'] == 'Sun']"
   ]
  },
  {
   "cell_type": "code",
   "execution_count": null,
   "metadata": {
    "collapsed": false
   },
   "outputs": [],
   "source": [
    "with sns.plotting_context(context='poster'):\n",
    "    g = sns.lmplot(\"totbill\", \"tip\", sun_tips, hue=\"day\", palette=\"Set2\",\n",
    "                   hue_order=[\"Sun\"], size=8, aspect=2)\n",
    "\n",
    "    g.set_axis_labels(\"Total bill (US Dollars)\", \"Tip\");\n",
    "\n",
    "    g.set(xticks=[10, 30, 50], ylim=(0, 10), yticks=[0, 2.5, 5, 7.5, 10]);"
   ]
  },
  {
   "cell_type": "markdown",
   "metadata": {},
   "source": [
    "## Colofon"
   ]
  },
  {
   "cell_type": "code",
   "execution_count": 89,
   "metadata": {
    "collapsed": false
   },
   "outputs": [
    {
     "name": "stdout",
     "output_type": "stream",
     "text": [
      "Python    2.7.10\n",
      "IPython   4.0.0\n",
      "numpy     1.10.1\n",
      "pandas    0.17.0\n",
      "sklearn   0.16.1\n",
      "seaborn   0.6.0\n"
     ]
    }
   ],
   "source": [
    "from utils import *\n",
    "print_versions()"
   ]
  },
  {
   "cell_type": "code",
   "execution_count": 90,
   "metadata": {
    "collapsed": false
   },
   "outputs": [
    {
     "data": {
      "text/html": [
       "\n",
       "<link rel=\"stylesheet\" href=\"theme/custom.css\">"
      ],
      "text/plain": [
       "<IPython.core.display.HTML object>"
      ]
     },
     "metadata": {},
     "output_type": "display_data"
    }
   ],
   "source": [
    "%%html\n",
    "\n",
    "<link rel=\"stylesheet\" href=\"theme/custom.css\">"
   ]
  }
 ],
 "metadata": {
  "kernelspec": {
   "display_name": "Python 2",
   "language": "python",
   "name": "python2"
  },
  "language_info": {
   "codemirror_mode": {
    "name": "ipython",
    "version": 2
   },
   "file_extension": ".py",
   "mimetype": "text/x-python",
   "name": "python",
   "nbconvert_exporter": "python",
   "pygments_lexer": "ipython2",
   "version": "2.7.10"
  }
 },
 "nbformat": 4,
 "nbformat_minor": 0
}
